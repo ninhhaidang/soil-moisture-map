{
 "cells": [
  {
   "cell_type": "code",
   "execution_count": 1,
   "id": "ee9c4454",
   "metadata": {},
   "outputs": [
    {
     "name": "stdout",
     "output_type": "stream",
     "text": [
      "=== CẤU HÌNH TẢI DỮ LIỆU CHIRPS ===\n",
      "- Thời gian: 2022-01-01 đến 2025-01-01\n",
      "- Dataset: CHIRPS Precipitation Monthly\n",
      "- Thư mục lưu: ./chirps_data\n",
      "- Sử dụng: geemap cho file lớn\n",
      "- Mục đích: Nghiên cứu độ ẩm đất nông nghiệp\n"
     ]
    }
   ],
   "source": [
    "# Import thư viện và khởi tạo\n",
    "import ee\n",
    "import geemap\n",
    "import os\n",
    "import numpy as np\n",
    "from datetime import datetime\n",
    "\n",
    "# Khởi tạo Google Earth Engine với project ID\n",
    "ee.Initialize(project='ee-bonglantrungmuoi')\n",
    "\n",
    "# Cấu hình thời gian và tham số\n",
    "start_date = '2022-01-01'\n",
    "end_date = '2025-01-01'\n",
    "\n",
    "# Tạo thư mục lưu dữ liệu\n",
    "output_folder = './chirps_data'\n",
    "os.makedirs(output_folder, exist_ok=True)\n",
    "\n",
    "print(f\"=== CẤU HÌNH TẢI DỮ LIỆU CHIRPS ===\")\n",
    "print(f\"- Thời gian: {start_date} đến {end_date}\")\n",
    "print(f\"- Dataset: CHIRPS Precipitation Monthly\")\n",
    "print(f\"- Thư mục lưu: {output_folder}\")\n",
    "print(f\"- Sử dụng: geemap cho file lớn\")\n",
    "print(f\"- Mục đích: Nghiên cứu độ ẩm đất nông nghiệp\")"
   ]
  },
  {
   "cell_type": "code",
   "execution_count": 2,
   "id": "db269137",
   "metadata": {},
   "outputs": [
    {
     "data": {
      "text/html": [
       "\n",
       "            <style>\n",
       "                .geemap-dark {\n",
       "                    --jp-widgets-color: white;\n",
       "                    --jp-widgets-label-color: white;\n",
       "                    --jp-ui-font-color1: white;\n",
       "                    --jp-layout-color2: #454545;\n",
       "                    background-color: #383838;\n",
       "                }\n",
       "\n",
       "                .geemap-dark .jupyter-button {\n",
       "                    --jp-layout-color3: #383838;\n",
       "                }\n",
       "\n",
       "                .geemap-colab {\n",
       "                    background-color: var(--colab-primary-surface-color, white);\n",
       "                }\n",
       "\n",
       "                .geemap-colab .jupyter-button {\n",
       "                    --jp-layout-color3: var(--colab-primary-surface-color, white);\n",
       "                }\n",
       "            </style>\n",
       "            "
      ],
      "text/plain": [
       "<IPython.core.display.HTML object>"
      ]
     },
     "metadata": {},
     "output_type": "display_data"
    },
    {
     "name": "stdout",
     "output_type": "stream",
     "text": [
      "=== TẢI SHAPEFILE VÀ TẠO CHIRPS COLLECTION ===\n",
      "✓ Đã tải shapefile từ GEE Asset\n",
      "  - Số features: 1\n",
      "  - Số features: 1\n",
      "✓ Đã tạo CHIRPS collection\n",
      "  - Tổng số ảnh: 1096\n",
      "✓ Đã tạo CHIRPS collection\n",
      "  - Tổng số ảnh: 1096\n",
      "  - Ảnh đầu tiên: 2022-01-01\n",
      "  - Ảnh đầu tiên: 2022-01-01\n",
      "  - Năm 2022: 365 ảnh\n",
      "  - Năm 2022: 365 ảnh\n",
      "  - Năm 2023: 365 ảnh\n",
      "  - Năm 2023: 365 ảnh\n",
      "  - Năm 2024: 366 ảnh\n",
      "  - Năm 2024: 366 ảnh\n",
      "  - Giá trị mẫu (mm): {'precipitation_max': 0, 'precipitation_min': 0}\n",
      "  - Giá trị mẫu (mm): {'precipitation_max': 0, 'precipitation_min': 0}\n"
     ]
    }
   ],
   "source": [
    "# Đọc shapefile và tạo CHIRPS collection\n",
    "print(\"=== TẢI SHAPEFILE VÀ TẠO CHIRPS COLLECTION ===\")\n",
    "\n",
    "# Sử dụng shapefile Lâm Đồng từ GEE Asset\n",
    "lamdong_asset = ee.FeatureCollection('projects/ee-bonglantrungmuoi/assets/lamdong')\n",
    "lamdong_geometry = lamdong_asset.geometry()\n",
    "\n",
    "# Hiển thị thông tin về shapefile\n",
    "print(f\"✓ Đã tải shapefile từ GEE Asset\")\n",
    "print(f\"  - Số features: {lamdong_asset.size().getInfo()}\")\n",
    "\n",
    "# Tạo CHIRPS collection\n",
    "# Sử dụng CHIRPS Daily để tạo composite monthly\n",
    "# CHIRPS Daily: 'UCSB-CHG/CHIRPS/DAILY' (độ phân giải 0.05 degree ~ 5.5km)\n",
    "chirps_collection = (ee.ImageCollection('UCSB-CHG/CHIRPS/DAILY')\n",
    "                    .filterBounds(lamdong_geometry)\n",
    "                    .filterDate(start_date, end_date)\n",
    "                    .select('precipitation'))\n",
    "\n",
    "# Thông tin collection\n",
    "collection_size = chirps_collection.size().getInfo()\n",
    "print(f\"✓ Đã tạo CHIRPS collection\")\n",
    "print(f\"  - Tổng số ảnh: {collection_size}\")\n",
    "\n",
    "# Thông tin ảnh đầu tiên\n",
    "if collection_size > 0:\n",
    "    first_image = ee.Image(chirps_collection.first())\n",
    "    first_date = ee.Date(first_image.get('system:time_start')).format('YYYY-MM-dd').getInfo()\n",
    "    print(f\"  - Ảnh đầu tiên: {first_date}\")\n",
    "    \n",
    "    # Thống kê theo năm\n",
    "    for year in range(2022, 2025):\n",
    "        year_collection = chirps_collection.filter(ee.Filter.calendarRange(year, year, 'year'))\n",
    "        year_count = year_collection.size().getInfo()\n",
    "        print(f\"  - Năm {year}: {year_count} ảnh\")\n",
    "        \n",
    "    # Hiển thị giá trị mẫu\n",
    "    sample_stats = first_image.reduceRegion(\n",
    "        reducer=ee.Reducer.minMax(),\n",
    "        geometry=lamdong_geometry,\n",
    "        scale=5500,\n",
    "        maxPixels=1e9\n",
    "    )\n",
    "    print(f\"  - Giá trị mẫu (mm): {sample_stats.getInfo()}\")\n",
    "else:\n",
    "    print(\"⚠️ Không tìm thấy ảnh nào!\")"
   ]
  },
  {
   "cell_type": "code",
   "execution_count": 3,
   "id": "7bcb1806",
   "metadata": {},
   "outputs": [
    {
     "data": {
      "text/html": [
       "\n",
       "            <style>\n",
       "                .geemap-dark {\n",
       "                    --jp-widgets-color: white;\n",
       "                    --jp-widgets-label-color: white;\n",
       "                    --jp-ui-font-color1: white;\n",
       "                    --jp-layout-color2: #454545;\n",
       "                    background-color: #383838;\n",
       "                }\n",
       "\n",
       "                .geemap-dark .jupyter-button {\n",
       "                    --jp-layout-color3: #383838;\n",
       "                }\n",
       "\n",
       "                .geemap-colab {\n",
       "                    background-color: var(--colab-primary-surface-color, white);\n",
       "                }\n",
       "\n",
       "                .geemap-colab .jupyter-button {\n",
       "                    --jp-layout-color3: var(--colab-primary-surface-color, white);\n",
       "                }\n",
       "            </style>\n",
       "            "
      ],
      "text/plain": [
       "<IPython.core.display.HTML object>"
      ]
     },
     "metadata": {},
     "output_type": "display_data"
    },
    {
     "name": "stdout",
     "output_type": "stream",
     "text": [
      "=== THIẾT LẬP FUNCTIONS TẢI DỮ LIỆU CHIRPS ===\n",
      "✅ Đã thiết lập functions tải dữ liệu CHIRPS với geemap!\n"
     ]
    }
   ],
   "source": [
    "# Functions tải dữ liệu CHIRPS với geemap\n",
    "print(\"=== THIẾT LẬP FUNCTIONS TẢI DỮ LIỆU CHIRPS ===\")\n",
    "\n",
    "def download_monthly_chirps(year, month, scale=5500):\n",
    "    \"\"\"\n",
    "    Tải dữ liệu CHIRPS tháng với geemap (từ CHIRPS Daily)\n",
    "    \n",
    "    Args:\n",
    "        year: Năm\n",
    "        month: Tháng  \n",
    "        scale: Độ phân giải (m), mặc định 5500m (native CHIRPS resolution)\n",
    "    \"\"\"\n",
    "    start_month = ee.Date.fromYMD(year, month, 1)\n",
    "    end_month = start_month.advance(1, 'month')\n",
    "    \n",
    "    # Lọc ảnh theo tháng từ CHIRPS Daily\n",
    "    monthly_collection = chirps_collection.filterDate(start_month, end_month)\n",
    "    \n",
    "    # Kiểm tra có dữ liệu không\n",
    "    count = monthly_collection.size().getInfo()\n",
    "    if count == 0:\n",
    "        print(f\"❌ Không có dữ liệu cho {year}-{month:02d}\")\n",
    "        return None\n",
    "    \n",
    "    print(f\"📊 Tháng {year}-{month:02d}: {count} ảnh daily\")\n",
    "    \n",
    "    # Tạo composite monthly từ dữ liệu daily (tổng lượng mưa trong tháng)\n",
    "    monthly_precipitation = (monthly_collection\n",
    "                           .select('precipitation')\n",
    "                           .sum()  # Tổng lượng mưa trong tháng\n",
    "                           .clip(lamdong_geometry))\n",
    "    \n",
    "    # Tạo tên file\n",
    "    filename = f'CHIRPS_Lamdong_{year}_{month:02d}_monthly.tif'\n",
    "    filepath = os.path.join(output_folder, filename)\n",
    "    \n",
    "    try:\n",
    "        print(f\"🔄 Đang tải {filename}...\")\n",
    "        \n",
    "        # Sử dụng geemap để tải file\n",
    "        geemap.download_ee_image(\n",
    "            image=monthly_precipitation,\n",
    "            filename=filepath,\n",
    "            scale=scale,\n",
    "            region=lamdong_geometry,\n",
    "            crs='EPSG:4326'\n",
    "        )\n",
    "        \n",
    "        # Kiểm tra file size\n",
    "        if os.path.exists(filepath):\n",
    "            file_size = os.path.getsize(filepath) / (1024*1024)  # MB\n",
    "            print(f\"✅ Đã lưu: {filename} ({file_size:.1f} MB)\")\n",
    "            return filepath\n",
    "        else:\n",
    "            print(f\"❌ Không tạo được file: {filename}\")\n",
    "            return None\n",
    "        \n",
    "    except Exception as e:\n",
    "        print(f\"❌ Lỗi tải {year}-{month:02d}: {str(e)}\")\n",
    "        return None\n",
    "\n",
    "def get_chirps_stats(year, month):\n",
    "    \"\"\"\n",
    "    Lấy thống kê mưa cho tháng (từ CHIRPS Daily)\n",
    "    \"\"\"\n",
    "    start_month = ee.Date.fromYMD(year, month, 1)\n",
    "    end_month = start_month.advance(1, 'month')\n",
    "    \n",
    "    monthly_collection = chirps_collection.filterDate(start_month, end_month)\n",
    "    \n",
    "    if monthly_collection.size().getInfo() == 0:\n",
    "        return None\n",
    "    \n",
    "    # Tạo composite monthly từ dữ liệu daily\n",
    "    monthly_precipitation = monthly_collection.select('precipitation').sum()\n",
    "    \n",
    "    # Tính thống kê trong vùng Lâm Đồng\n",
    "    stats = monthly_precipitation.reduceRegion(\n",
    "        reducer=ee.Reducer.mean().combine(\n",
    "            ee.Reducer.minMax(), sharedInputs=True\n",
    "        ).combine(\n",
    "            ee.Reducer.stdDev(), sharedInputs=True\n",
    "        ),\n",
    "        geometry=lamdong_geometry,\n",
    "        scale=5500,\n",
    "        maxPixels=1e9\n",
    "    )\n",
    "    \n",
    "    return stats.getInfo()\n",
    "\n",
    "def estimate_chirps_file_size(scale=5500):\n",
    "    \"\"\"Ước tính kích thước file CHIRPS\"\"\"\n",
    "    try:\n",
    "        # Tạo composite mẫu từ 1 tháng\n",
    "        sample_start = ee.Date('2022-01-01')\n",
    "        sample_end = sample_start.advance(1, 'month')\n",
    "        \n",
    "        sample_collection = chirps_collection.filterDate(sample_start, sample_end)\n",
    "        sample_image = sample_collection.sum()\n",
    "        \n",
    "        pixel_count = (sample_image.select('precipitation')\n",
    "                      .reduceRegion(\n",
    "                          reducer=ee.Reducer.count(),\n",
    "                          geometry=lamdong_geometry,\n",
    "                          scale=scale,\n",
    "                          maxPixels=1e9\n",
    "                      ).get('precipitation').getInfo())\n",
    "        \n",
    "        # Ước tính: 1 band × 4 bytes/pixel (Float32)\n",
    "        size_mb = (pixel_count * 4) / (1024 * 1024)\n",
    "        \n",
    "        print(f\"📏 Ước tính kích thước file CHIRPS (độ phân giải {scale}m):\")\n",
    "        print(f\"   - Số pixel: {pixel_count:,}\")\n",
    "        print(f\"   - Kích thước: {size_mb:.2f} MB\")\n",
    "        \n",
    "        return size_mb\n",
    "        \n",
    "    except Exception as e:\n",
    "        print(f\"❌ Không thể ước tính: {str(e)}\")\n",
    "        return 0\n",
    "\n",
    "print(\"✅ Đã thiết lập functions tải dữ liệu CHIRPS với geemap!\")"
   ]
  },
  {
   "cell_type": "code",
   "execution_count": 4,
   "id": "a503672a",
   "metadata": {},
   "outputs": [
    {
     "data": {
      "text/html": [
       "\n",
       "            <style>\n",
       "                .geemap-dark {\n",
       "                    --jp-widgets-color: white;\n",
       "                    --jp-widgets-label-color: white;\n",
       "                    --jp-ui-font-color1: white;\n",
       "                    --jp-layout-color2: #454545;\n",
       "                    background-color: #383838;\n",
       "                }\n",
       "\n",
       "                .geemap-dark .jupyter-button {\n",
       "                    --jp-layout-color3: #383838;\n",
       "                }\n",
       "\n",
       "                .geemap-colab {\n",
       "                    background-color: var(--colab-primary-surface-color, white);\n",
       "                }\n",
       "\n",
       "                .geemap-colab .jupyter-button {\n",
       "                    --jp-layout-color3: var(--colab-primary-surface-color, white);\n",
       "                }\n",
       "            </style>\n",
       "            "
      ],
      "text/plain": [
       "<IPython.core.display.HTML object>"
      ]
     },
     "metadata": {},
     "output_type": "display_data"
    },
    {
     "name": "stdout",
     "output_type": "stream",
     "text": [
      "=== TẢI DỮ LIỆU CHIRPS PRECIPITATION THÁNG ===\n",
      "Thời gian: Tháng 1/2022 → Tháng 12/2024\n",
      "Dữ liệu: CHIRPS Daily → Monthly Composite (mm)\n",
      "Độ phân giải: 5.5km (~0.05 degree)\n",
      "Phương pháp: Tổng lượng mưa daily trong tháng\n",
      "\n",
      "🔍 Ước tính kích thước với độ phân giải 5500m:\n",
      "📏 Ước tính kích thước file CHIRPS (độ phân giải 5500m):\n",
      "   - Số pixel: 824\n",
      "   - Kích thước: 0.00 MB\n",
      "📊 Tổng quan:\n",
      "   - Số tháng cần tải: 36 tháng\n",
      "   - Kích thước ước tính/file: 0.00 MB\n",
      "   - Tổng dung lượng ước tính: 0.1 MB (0.00 GB)\n",
      "\n",
      "📈 Thống kê mẫu (tháng 1/2022):\n",
      "📏 Ước tính kích thước file CHIRPS (độ phân giải 5500m):\n",
      "   - Số pixel: 824\n",
      "   - Kích thước: 0.00 MB\n",
      "📊 Tổng quan:\n",
      "   - Số tháng cần tải: 36 tháng\n",
      "   - Kích thước ước tính/file: 0.00 MB\n",
      "   - Tổng dung lượng ước tính: 0.1 MB (0.00 GB)\n",
      "\n",
      "📈 Thống kê mẫu (tháng 1/2022):\n",
      "   - Lượng mưa tổng: 5.6 mm/tháng\n",
      "\n",
      "🚀 BẮT ĐẦU TẢI 36 FILE CHIRPS THÁNG...\n",
      "\n",
      "[1/36] Tháng 2022-01\n",
      "   - Lượng mưa tổng: 5.6 mm/tháng\n",
      "\n",
      "🚀 BẮT ĐẦU TẢI 36 FILE CHIRPS THÁNG...\n",
      "\n",
      "[1/36] Tháng 2022-01\n",
      "   📊 Tổng lượng mưa: 5.6mm (min: 0.0, max: 16.5)\n",
      "   📊 Tổng lượng mưa: 5.6mm (min: 0.0, max: 16.5)\n",
      "📊 Tháng 2022-01: 31 ảnh daily\n",
      "🔄 Đang tải CHIRPS_Lamdong_2022_01_monthly.tif...\n",
      "📊 Tháng 2022-01: 31 ảnh daily\n",
      "🔄 Đang tải CHIRPS_Lamdong_2022_01_monthly.tif...\n"
     ]
    },
    {
     "data": {
      "application/vnd.jupyter.widget-view+json": {
       "model_id": "645ee8f043e84690950eff2a2937946a",
       "version_major": 2,
       "version_minor": 0
      },
      "text/plain": [
       "CHIRPS_Lamdong_2022_01_monthly.tif: |          | 0.00/14.2k (raw) [  0.0%] in 00:00 (eta:     ?)"
      ]
     },
     "metadata": {},
     "output_type": "display_data"
    },
    {
     "name": "stderr",
     "output_type": "stream",
     "text": [
      "There is no STAC entry for: None\n"
     ]
    },
    {
     "name": "stdout",
     "output_type": "stream",
     "text": [
      "✅ Đã lưu: CHIRPS_Lamdong_2022_01_monthly.tif (0.0 MB)\n",
      "✅ Thành công: CHIRPS_Lamdong_2022_01_monthly.tif\n",
      "📈 Tiến trình: 2.8% (1/36)\n",
      "\n",
      "[2/36] Tháng 2022-02\n",
      "   📊 Tổng lượng mưa: 22.3mm (min: 0.0, max: 53.1)\n",
      "   📊 Tổng lượng mưa: 22.3mm (min: 0.0, max: 53.1)\n",
      "📊 Tháng 2022-02: 28 ảnh daily\n",
      "🔄 Đang tải CHIRPS_Lamdong_2022_02_monthly.tif...\n",
      "📊 Tháng 2022-02: 28 ảnh daily\n",
      "🔄 Đang tải CHIRPS_Lamdong_2022_02_monthly.tif...\n"
     ]
    },
    {
     "data": {
      "application/vnd.jupyter.widget-view+json": {
       "model_id": "48fee4a55c5b4175bc1b7231c4528119",
       "version_major": 2,
       "version_minor": 0
      },
      "text/plain": [
       "CHIRPS_Lamdong_2022_02_monthly.tif: |          | 0.00/14.2k (raw) [  0.0%] in 00:00 (eta:     ?)"
      ]
     },
     "metadata": {},
     "output_type": "display_data"
    },
    {
     "name": "stdout",
     "output_type": "stream",
     "text": [
      "✅ Đã lưu: CHIRPS_Lamdong_2022_02_monthly.tif (0.0 MB)\n",
      "✅ Thành công: CHIRPS_Lamdong_2022_02_monthly.tif\n",
      "📈 Tiến trình: 5.6% (2/36)\n",
      "\n",
      "[3/36] Tháng 2022-03\n",
      "   📊 Tổng lượng mưa: 166.7mm (min: 9.8, max: 375.3)\n",
      "   📊 Tổng lượng mưa: 166.7mm (min: 9.8, max: 375.3)\n",
      "📊 Tháng 2022-03: 31 ảnh daily\n",
      "🔄 Đang tải CHIRPS_Lamdong_2022_03_monthly.tif...\n",
      "📊 Tháng 2022-03: 31 ảnh daily\n",
      "🔄 Đang tải CHIRPS_Lamdong_2022_03_monthly.tif...\n"
     ]
    },
    {
     "data": {
      "application/vnd.jupyter.widget-view+json": {
       "model_id": "f24adea7217b4e469b8b5fc1884407ae",
       "version_major": 2,
       "version_minor": 0
      },
      "text/plain": [
       "CHIRPS_Lamdong_2022_03_monthly.tif: |          | 0.00/14.2k (raw) [  0.0%] in 00:00 (eta:     ?)"
      ]
     },
     "metadata": {},
     "output_type": "display_data"
    },
    {
     "name": "stdout",
     "output_type": "stream",
     "text": [
      "✅ Đã lưu: CHIRPS_Lamdong_2022_03_monthly.tif (0.0 MB)\n",
      "✅ Thành công: CHIRPS_Lamdong_2022_03_monthly.tif\n",
      "📈 Tiến trình: 8.3% (3/36)\n",
      "\n",
      "[4/36] Tháng 2022-04\n",
      "   📊 Tổng lượng mưa: 214.7mm (min: 55.1, max: 350.5)\n",
      "   📊 Tổng lượng mưa: 214.7mm (min: 55.1, max: 350.5)\n",
      "📊 Tháng 2022-04: 30 ảnh daily\n",
      "🔄 Đang tải CHIRPS_Lamdong_2022_04_monthly.tif...\n",
      "📊 Tháng 2022-04: 30 ảnh daily\n",
      "🔄 Đang tải CHIRPS_Lamdong_2022_04_monthly.tif...\n"
     ]
    },
    {
     "data": {
      "application/vnd.jupyter.widget-view+json": {
       "model_id": "a6ba71346d434da2a5b15993c85cd7e0",
       "version_major": 2,
       "version_minor": 0
      },
      "text/plain": [
       "CHIRPS_Lamdong_2022_04_monthly.tif: |          | 0.00/14.2k (raw) [  0.0%] in 00:00 (eta:     ?)"
      ]
     },
     "metadata": {},
     "output_type": "display_data"
    },
    {
     "name": "stdout",
     "output_type": "stream",
     "text": [
      "✅ Đã lưu: CHIRPS_Lamdong_2022_04_monthly.tif (0.0 MB)\n",
      "✅ Thành công: CHIRPS_Lamdong_2022_04_monthly.tif\n",
      "📈 Tiến trình: 11.1% (4/36)\n",
      "\n",
      "[5/36] Tháng 2022-05\n",
      "   📊 Tổng lượng mưa: 276.7mm (min: 110.3, max: 430.2)\n",
      "   📊 Tổng lượng mưa: 276.7mm (min: 110.3, max: 430.2)\n",
      "📊 Tháng 2022-05: 31 ảnh daily\n",
      "🔄 Đang tải CHIRPS_Lamdong_2022_05_monthly.tif...\n",
      "📊 Tháng 2022-05: 31 ảnh daily\n",
      "🔄 Đang tải CHIRPS_Lamdong_2022_05_monthly.tif...\n"
     ]
    },
    {
     "data": {
      "application/vnd.jupyter.widget-view+json": {
       "model_id": "1562dd45d40944c09f0b5a46f1e10e19",
       "version_major": 2,
       "version_minor": 0
      },
      "text/plain": [
       "CHIRPS_Lamdong_2022_05_monthly.tif: |          | 0.00/14.2k (raw) [  0.0%] in 00:00 (eta:     ?)"
      ]
     },
     "metadata": {},
     "output_type": "display_data"
    },
    {
     "name": "stdout",
     "output_type": "stream",
     "text": [
      "✅ Đã lưu: CHIRPS_Lamdong_2022_05_monthly.tif (0.0 MB)\n",
      "✅ Thành công: CHIRPS_Lamdong_2022_05_monthly.tif\n",
      "📈 Tiến trình: 13.9% (5/36)\n",
      "\n",
      "[6/36] Tháng 2022-06\n",
      "   📊 Tổng lượng mưa: 134.2mm (min: 17.9, max: 252.2)\n",
      "   📊 Tổng lượng mưa: 134.2mm (min: 17.9, max: 252.2)\n",
      "📊 Tháng 2022-06: 30 ảnh daily\n",
      "🔄 Đang tải CHIRPS_Lamdong_2022_06_monthly.tif...\n",
      "📊 Tháng 2022-06: 30 ảnh daily\n",
      "🔄 Đang tải CHIRPS_Lamdong_2022_06_monthly.tif...\n"
     ]
    },
    {
     "data": {
      "application/vnd.jupyter.widget-view+json": {
       "model_id": "e5fadc0e5a0d426d8f909e1b8fa80747",
       "version_major": 2,
       "version_minor": 0
      },
      "text/plain": [
       "CHIRPS_Lamdong_2022_06_monthly.tif: |          | 0.00/14.2k (raw) [  0.0%] in 00:00 (eta:     ?)"
      ]
     },
     "metadata": {},
     "output_type": "display_data"
    },
    {
     "name": "stdout",
     "output_type": "stream",
     "text": [
      "✅ Đã lưu: CHIRPS_Lamdong_2022_06_monthly.tif (0.0 MB)\n",
      "✅ Thành công: CHIRPS_Lamdong_2022_06_monthly.tif\n",
      "📈 Tiến trình: 16.7% (6/36)\n",
      "\n",
      "[7/36] Tháng 2022-07\n",
      "   📊 Tổng lượng mưa: 297.5mm (min: 135.3, max: 566.8)\n",
      "   📊 Tổng lượng mưa: 297.5mm (min: 135.3, max: 566.8)\n",
      "📊 Tháng 2022-07: 31 ảnh daily\n",
      "🔄 Đang tải CHIRPS_Lamdong_2022_07_monthly.tif...\n",
      "📊 Tháng 2022-07: 31 ảnh daily\n",
      "🔄 Đang tải CHIRPS_Lamdong_2022_07_monthly.tif...\n"
     ]
    },
    {
     "data": {
      "application/vnd.jupyter.widget-view+json": {
       "model_id": "681d643cb58441d897c96e3b52475426",
       "version_major": 2,
       "version_minor": 0
      },
      "text/plain": [
       "CHIRPS_Lamdong_2022_07_monthly.tif: |          | 0.00/14.2k (raw) [  0.0%] in 00:00 (eta:     ?)"
      ]
     },
     "metadata": {},
     "output_type": "display_data"
    },
    {
     "name": "stdout",
     "output_type": "stream",
     "text": [
      "✅ Đã lưu: CHIRPS_Lamdong_2022_07_monthly.tif (0.0 MB)\n",
      "✅ Thành công: CHIRPS_Lamdong_2022_07_monthly.tif\n",
      "📈 Tiến trình: 19.4% (7/36)\n",
      "\n",
      "[8/36] Tháng 2022-08\n",
      "   📊 Tổng lượng mưa: 352.0mm (min: 130.1, max: 618.9)\n",
      "   📊 Tổng lượng mưa: 352.0mm (min: 130.1, max: 618.9)\n",
      "📊 Tháng 2022-08: 31 ảnh daily\n",
      "🔄 Đang tải CHIRPS_Lamdong_2022_08_monthly.tif...\n",
      "📊 Tháng 2022-08: 31 ảnh daily\n",
      "🔄 Đang tải CHIRPS_Lamdong_2022_08_monthly.tif...\n"
     ]
    },
    {
     "data": {
      "application/vnd.jupyter.widget-view+json": {
       "model_id": "7e96d3747d8448039644c038acb9273c",
       "version_major": 2,
       "version_minor": 0
      },
      "text/plain": [
       "CHIRPS_Lamdong_2022_08_monthly.tif: |          | 0.00/14.2k (raw) [  0.0%] in 00:00 (eta:     ?)"
      ]
     },
     "metadata": {},
     "output_type": "display_data"
    },
    {
     "name": "stdout",
     "output_type": "stream",
     "text": [
      "✅ Đã lưu: CHIRPS_Lamdong_2022_08_monthly.tif (0.0 MB)\n",
      "✅ Thành công: CHIRPS_Lamdong_2022_08_monthly.tif\n",
      "📈 Tiến trình: 22.2% (8/36)\n",
      "\n",
      "[9/36] Tháng 2022-09\n",
      "   📊 Tổng lượng mưa: 336.2mm (min: 141.9, max: 446.9)\n",
      "   📊 Tổng lượng mưa: 336.2mm (min: 141.9, max: 446.9)\n",
      "📊 Tháng 2022-09: 30 ảnh daily\n",
      "🔄 Đang tải CHIRPS_Lamdong_2022_09_monthly.tif...\n",
      "📊 Tháng 2022-09: 30 ảnh daily\n",
      "🔄 Đang tải CHIRPS_Lamdong_2022_09_monthly.tif...\n"
     ]
    },
    {
     "data": {
      "application/vnd.jupyter.widget-view+json": {
       "model_id": "990380bf948c4385abb39817708db0eb",
       "version_major": 2,
       "version_minor": 0
      },
      "text/plain": [
       "CHIRPS_Lamdong_2022_09_monthly.tif: |          | 0.00/14.2k (raw) [  0.0%] in 00:00 (eta:     ?)"
      ]
     },
     "metadata": {},
     "output_type": "display_data"
    },
    {
     "name": "stdout",
     "output_type": "stream",
     "text": [
      "✅ Đã lưu: CHIRPS_Lamdong_2022_09_monthly.tif (0.0 MB)\n",
      "✅ Thành công: CHIRPS_Lamdong_2022_09_monthly.tif\n",
      "📈 Tiến trình: 25.0% (9/36)\n",
      "\n",
      "[10/36] Tháng 2022-10\n",
      "   📊 Tổng lượng mưa: 315.8mm (min: 191.0, max: 516.5)\n",
      "   📊 Tổng lượng mưa: 315.8mm (min: 191.0, max: 516.5)\n",
      "📊 Tháng 2022-10: 31 ảnh daily\n",
      "🔄 Đang tải CHIRPS_Lamdong_2022_10_monthly.tif...\n",
      "📊 Tháng 2022-10: 31 ảnh daily\n",
      "🔄 Đang tải CHIRPS_Lamdong_2022_10_monthly.tif...\n"
     ]
    },
    {
     "data": {
      "application/vnd.jupyter.widget-view+json": {
       "model_id": "4d237cfc0f0a4d6c8ef2c2a941adf8b6",
       "version_major": 2,
       "version_minor": 0
      },
      "text/plain": [
       "CHIRPS_Lamdong_2022_10_monthly.tif: |          | 0.00/14.2k (raw) [  0.0%] in 00:00 (eta:     ?)"
      ]
     },
     "metadata": {},
     "output_type": "display_data"
    },
    {
     "name": "stdout",
     "output_type": "stream",
     "text": [
      "✅ Đã lưu: CHIRPS_Lamdong_2022_10_monthly.tif (0.0 MB)\n",
      "✅ Thành công: CHIRPS_Lamdong_2022_10_monthly.tif\n",
      "📈 Tiến trình: 27.8% (10/36)\n",
      "\n",
      "[11/36] Tháng 2022-11\n",
      "   📊 Tổng lượng mưa: 154.9mm (min: 62.3, max: 254.3)\n",
      "   📊 Tổng lượng mưa: 154.9mm (min: 62.3, max: 254.3)\n",
      "📊 Tháng 2022-11: 30 ảnh daily\n",
      "🔄 Đang tải CHIRPS_Lamdong_2022_11_monthly.tif...\n",
      "📊 Tháng 2022-11: 30 ảnh daily\n",
      "🔄 Đang tải CHIRPS_Lamdong_2022_11_monthly.tif...\n"
     ]
    },
    {
     "data": {
      "application/vnd.jupyter.widget-view+json": {
       "model_id": "4aa7ecbe57fe4472bf905a4409947ad7",
       "version_major": 2,
       "version_minor": 0
      },
      "text/plain": [
       "CHIRPS_Lamdong_2022_11_monthly.tif: |          | 0.00/14.2k (raw) [  0.0%] in 00:00 (eta:     ?)"
      ]
     },
     "metadata": {},
     "output_type": "display_data"
    },
    {
     "name": "stdout",
     "output_type": "stream",
     "text": [
      "✅ Đã lưu: CHIRPS_Lamdong_2022_11_monthly.tif (0.0 MB)\n",
      "✅ Thành công: CHIRPS_Lamdong_2022_11_monthly.tif\n",
      "📈 Tiến trình: 30.6% (11/36)\n",
      "\n",
      "[12/36] Tháng 2022-12\n",
      "   📊 Tổng lượng mưa: 125.4mm (min: 48.9, max: 243.8)\n",
      "   📊 Tổng lượng mưa: 125.4mm (min: 48.9, max: 243.8)\n",
      "📊 Tháng 2022-12: 31 ảnh daily\n",
      "🔄 Đang tải CHIRPS_Lamdong_2022_12_monthly.tif...\n",
      "📊 Tháng 2022-12: 31 ảnh daily\n",
      "🔄 Đang tải CHIRPS_Lamdong_2022_12_monthly.tif...\n"
     ]
    },
    {
     "data": {
      "application/vnd.jupyter.widget-view+json": {
       "model_id": "9a37c2a848594c42a0a5519169f9b1f5",
       "version_major": 2,
       "version_minor": 0
      },
      "text/plain": [
       "CHIRPS_Lamdong_2022_12_monthly.tif: |          | 0.00/14.2k (raw) [  0.0%] in 00:00 (eta:     ?)"
      ]
     },
     "metadata": {},
     "output_type": "display_data"
    },
    {
     "name": "stdout",
     "output_type": "stream",
     "text": [
      "✅ Đã lưu: CHIRPS_Lamdong_2022_12_monthly.tif (0.0 MB)\n",
      "✅ Thành công: CHIRPS_Lamdong_2022_12_monthly.tif\n",
      "📈 Tiến trình: 33.3% (12/36)\n",
      "\n",
      "[13/36] Tháng 2023-01\n",
      "   📊 Tổng lượng mưa: 40.5mm (min: 6.1, max: 96.9)\n",
      "   📊 Tổng lượng mưa: 40.5mm (min: 6.1, max: 96.9)\n",
      "📊 Tháng 2023-01: 31 ảnh daily\n",
      "🔄 Đang tải CHIRPS_Lamdong_2023_01_monthly.tif...\n",
      "📊 Tháng 2023-01: 31 ảnh daily\n",
      "🔄 Đang tải CHIRPS_Lamdong_2023_01_monthly.tif...\n"
     ]
    },
    {
     "data": {
      "application/vnd.jupyter.widget-view+json": {
       "model_id": "99b93ec754ff420295f2b11151bbb0da",
       "version_major": 2,
       "version_minor": 0
      },
      "text/plain": [
       "CHIRPS_Lamdong_2023_01_monthly.tif: |          | 0.00/14.2k (raw) [  0.0%] in 00:00 (eta:     ?)"
      ]
     },
     "metadata": {},
     "output_type": "display_data"
    },
    {
     "name": "stdout",
     "output_type": "stream",
     "text": [
      "✅ Đã lưu: CHIRPS_Lamdong_2023_01_monthly.tif (0.0 MB)\n",
      "✅ Thành công: CHIRPS_Lamdong_2023_01_monthly.tif\n",
      "📈 Tiến trình: 36.1% (13/36)\n",
      "\n",
      "[14/36] Tháng 2023-02\n",
      "   📊 Tổng lượng mưa: 10.4mm (min: 0.0, max: 23.6)\n",
      "   📊 Tổng lượng mưa: 10.4mm (min: 0.0, max: 23.6)\n",
      "📊 Tháng 2023-02: 28 ảnh daily\n",
      "🔄 Đang tải CHIRPS_Lamdong_2023_02_monthly.tif...\n",
      "📊 Tháng 2023-02: 28 ảnh daily\n",
      "🔄 Đang tải CHIRPS_Lamdong_2023_02_monthly.tif...\n"
     ]
    },
    {
     "data": {
      "application/vnd.jupyter.widget-view+json": {
       "model_id": "850af013381041859b047a72a336c012",
       "version_major": 2,
       "version_minor": 0
      },
      "text/plain": [
       "CHIRPS_Lamdong_2023_02_monthly.tif: |          | 0.00/14.2k (raw) [  0.0%] in 00:00 (eta:     ?)"
      ]
     },
     "metadata": {},
     "output_type": "display_data"
    },
    {
     "name": "stdout",
     "output_type": "stream",
     "text": [
      "✅ Đã lưu: CHIRPS_Lamdong_2023_02_monthly.tif (0.0 MB)\n",
      "✅ Thành công: CHIRPS_Lamdong_2023_02_monthly.tif\n",
      "📈 Tiến trình: 38.9% (14/36)\n",
      "\n",
      "[15/36] Tháng 2023-03\n",
      "   📊 Tổng lượng mưa: 27.3mm (min: 0.0, max: 70.0)\n",
      "   📊 Tổng lượng mưa: 27.3mm (min: 0.0, max: 70.0)\n",
      "📊 Tháng 2023-03: 31 ảnh daily\n",
      "🔄 Đang tải CHIRPS_Lamdong_2023_03_monthly.tif...\n",
      "📊 Tháng 2023-03: 31 ảnh daily\n",
      "🔄 Đang tải CHIRPS_Lamdong_2023_03_monthly.tif...\n"
     ]
    },
    {
     "data": {
      "application/vnd.jupyter.widget-view+json": {
       "model_id": "9487abd3a314458fb9bed77199f6be97",
       "version_major": 2,
       "version_minor": 0
      },
      "text/plain": [
       "CHIRPS_Lamdong_2023_03_monthly.tif: |          | 0.00/14.2k (raw) [  0.0%] in 00:00 (eta:     ?)"
      ]
     },
     "metadata": {},
     "output_type": "display_data"
    },
    {
     "name": "stdout",
     "output_type": "stream",
     "text": [
      "✅ Đã lưu: CHIRPS_Lamdong_2023_03_monthly.tif (0.0 MB)\n",
      "✅ Thành công: CHIRPS_Lamdong_2023_03_monthly.tif\n",
      "📈 Tiến trình: 41.7% (15/36)\n",
      "\n",
      "[16/36] Tháng 2023-04\n",
      "   📊 Tổng lượng mưa: 57.1mm (min: 6.6, max: 110.6)\n",
      "   📊 Tổng lượng mưa: 57.1mm (min: 6.6, max: 110.6)\n",
      "📊 Tháng 2023-04: 30 ảnh daily\n",
      "🔄 Đang tải CHIRPS_Lamdong_2023_04_monthly.tif...\n",
      "📊 Tháng 2023-04: 30 ảnh daily\n",
      "🔄 Đang tải CHIRPS_Lamdong_2023_04_monthly.tif...\n"
     ]
    },
    {
     "data": {
      "application/vnd.jupyter.widget-view+json": {
       "model_id": "133f93eb9a7c4a999a09abba4ad76315",
       "version_major": 2,
       "version_minor": 0
      },
      "text/plain": [
       "CHIRPS_Lamdong_2023_04_monthly.tif: |          | 0.00/14.2k (raw) [  0.0%] in 00:00 (eta:     ?)"
      ]
     },
     "metadata": {},
     "output_type": "display_data"
    },
    {
     "name": "stdout",
     "output_type": "stream",
     "text": [
      "✅ Đã lưu: CHIRPS_Lamdong_2023_04_monthly.tif (0.0 MB)\n",
      "✅ Thành công: CHIRPS_Lamdong_2023_04_monthly.tif\n",
      "📈 Tiến trình: 44.4% (16/36)\n",
      "\n",
      "[17/36] Tháng 2023-05\n",
      "   📊 Tổng lượng mưa: 301.6mm (min: 104.9, max: 492.6)\n",
      "   📊 Tổng lượng mưa: 301.6mm (min: 104.9, max: 492.6)\n",
      "📊 Tháng 2023-05: 31 ảnh daily\n",
      "🔄 Đang tải CHIRPS_Lamdong_2023_05_monthly.tif...\n",
      "📊 Tháng 2023-05: 31 ảnh daily\n",
      "🔄 Đang tải CHIRPS_Lamdong_2023_05_monthly.tif...\n"
     ]
    },
    {
     "data": {
      "application/vnd.jupyter.widget-view+json": {
       "model_id": "79568567f7f040a784202f26fe6a702c",
       "version_major": 2,
       "version_minor": 0
      },
      "text/plain": [
       "CHIRPS_Lamdong_2023_05_monthly.tif: |          | 0.00/14.2k (raw) [  0.0%] in 00:00 (eta:     ?)"
      ]
     },
     "metadata": {},
     "output_type": "display_data"
    },
    {
     "name": "stdout",
     "output_type": "stream",
     "text": [
      "✅ Đã lưu: CHIRPS_Lamdong_2023_05_monthly.tif (0.0 MB)\n",
      "✅ Thành công: CHIRPS_Lamdong_2023_05_monthly.tif\n",
      "📈 Tiến trình: 47.2% (17/36)\n",
      "\n",
      "[18/36] Tháng 2023-06\n",
      "   📊 Tổng lượng mưa: 311.2mm (min: 32.7, max: 580.5)\n",
      "   📊 Tổng lượng mưa: 311.2mm (min: 32.7, max: 580.5)\n",
      "📊 Tháng 2023-06: 30 ảnh daily\n",
      "🔄 Đang tải CHIRPS_Lamdong_2023_06_monthly.tif...\n",
      "📊 Tháng 2023-06: 30 ảnh daily\n",
      "🔄 Đang tải CHIRPS_Lamdong_2023_06_monthly.tif...\n"
     ]
    },
    {
     "data": {
      "application/vnd.jupyter.widget-view+json": {
       "model_id": "43d8425ef53e48e8bf7f7211dfd90c93",
       "version_major": 2,
       "version_minor": 0
      },
      "text/plain": [
       "CHIRPS_Lamdong_2023_06_monthly.tif: |          | 0.00/14.2k (raw) [  0.0%] in 00:00 (eta:     ?)"
      ]
     },
     "metadata": {},
     "output_type": "display_data"
    },
    {
     "name": "stdout",
     "output_type": "stream",
     "text": [
      "✅ Đã lưu: CHIRPS_Lamdong_2023_06_monthly.tif (0.0 MB)\n",
      "✅ Thành công: CHIRPS_Lamdong_2023_06_monthly.tif\n",
      "📈 Tiến trình: 50.0% (18/36)\n",
      "\n",
      "[19/36] Tháng 2023-07\n",
      "   📊 Tổng lượng mưa: 393.5mm (min: 107.6, max: 747.4)\n",
      "   📊 Tổng lượng mưa: 393.5mm (min: 107.6, max: 747.4)\n",
      "📊 Tháng 2023-07: 31 ảnh daily\n",
      "🔄 Đang tải CHIRPS_Lamdong_2023_07_monthly.tif...\n",
      "📊 Tháng 2023-07: 31 ảnh daily\n",
      "🔄 Đang tải CHIRPS_Lamdong_2023_07_monthly.tif...\n"
     ]
    },
    {
     "data": {
      "application/vnd.jupyter.widget-view+json": {
       "model_id": "2f55df0aa1f040bb8e4a4b06f20905dd",
       "version_major": 2,
       "version_minor": 0
      },
      "text/plain": [
       "CHIRPS_Lamdong_2023_07_monthly.tif: |          | 0.00/14.2k (raw) [  0.0%] in 00:00 (eta:     ?)"
      ]
     },
     "metadata": {},
     "output_type": "display_data"
    },
    {
     "name": "stdout",
     "output_type": "stream",
     "text": [
      "✅ Đã lưu: CHIRPS_Lamdong_2023_07_monthly.tif (0.0 MB)\n",
      "✅ Thành công: CHIRPS_Lamdong_2023_07_monthly.tif\n",
      "📈 Tiến trình: 52.8% (19/36)\n",
      "\n",
      "[20/36] Tháng 2023-08\n",
      "   📊 Tổng lượng mưa: 239.3mm (min: 55.1, max: 501.6)\n",
      "   📊 Tổng lượng mưa: 239.3mm (min: 55.1, max: 501.6)\n",
      "📊 Tháng 2023-08: 31 ảnh daily\n",
      "🔄 Đang tải CHIRPS_Lamdong_2023_08_monthly.tif...\n",
      "📊 Tháng 2023-08: 31 ảnh daily\n",
      "🔄 Đang tải CHIRPS_Lamdong_2023_08_monthly.tif...\n"
     ]
    },
    {
     "data": {
      "application/vnd.jupyter.widget-view+json": {
       "model_id": "7fcb415827c94a5ebdf1e54329a50610",
       "version_major": 2,
       "version_minor": 0
      },
      "text/plain": [
       "CHIRPS_Lamdong_2023_08_monthly.tif: |          | 0.00/14.2k (raw) [  0.0%] in 00:00 (eta:     ?)"
      ]
     },
     "metadata": {},
     "output_type": "display_data"
    },
    {
     "name": "stdout",
     "output_type": "stream",
     "text": [
      "✅ Đã lưu: CHIRPS_Lamdong_2023_08_monthly.tif (0.0 MB)\n",
      "✅ Thành công: CHIRPS_Lamdong_2023_08_monthly.tif\n",
      "📈 Tiến trình: 55.6% (20/36)\n",
      "\n",
      "[21/36] Tháng 2023-09\n",
      "   📊 Tổng lượng mưa: 288.9mm (min: 90.9, max: 412.1)\n",
      "   📊 Tổng lượng mưa: 288.9mm (min: 90.9, max: 412.1)\n",
      "📊 Tháng 2023-09: 30 ảnh daily\n",
      "🔄 Đang tải CHIRPS_Lamdong_2023_09_monthly.tif...\n",
      "📊 Tháng 2023-09: 30 ảnh daily\n",
      "🔄 Đang tải CHIRPS_Lamdong_2023_09_monthly.tif...\n"
     ]
    },
    {
     "data": {
      "application/vnd.jupyter.widget-view+json": {
       "model_id": "2190868c466d49e5ab715fe630e3e4a1",
       "version_major": 2,
       "version_minor": 0
      },
      "text/plain": [
       "CHIRPS_Lamdong_2023_09_monthly.tif: |          | 0.00/14.2k (raw) [  0.0%] in 00:00 (eta:     ?)"
      ]
     },
     "metadata": {},
     "output_type": "display_data"
    },
    {
     "name": "stdout",
     "output_type": "stream",
     "text": [
      "✅ Đã lưu: CHIRPS_Lamdong_2023_09_monthly.tif (0.0 MB)\n",
      "✅ Thành công: CHIRPS_Lamdong_2023_09_monthly.tif\n",
      "📈 Tiến trình: 58.3% (21/36)\n",
      "\n",
      "[22/36] Tháng 2023-10\n",
      "   📊 Tổng lượng mưa: 189.0mm (min: 109.6, max: 309.0)\n",
      "   📊 Tổng lượng mưa: 189.0mm (min: 109.6, max: 309.0)\n",
      "📊 Tháng 2023-10: 31 ảnh daily\n",
      "🔄 Đang tải CHIRPS_Lamdong_2023_10_monthly.tif...\n",
      "📊 Tháng 2023-10: 31 ảnh daily\n",
      "🔄 Đang tải CHIRPS_Lamdong_2023_10_monthly.tif...\n"
     ]
    },
    {
     "data": {
      "application/vnd.jupyter.widget-view+json": {
       "model_id": "6617bec1a7154f4c8b51363a2788778c",
       "version_major": 2,
       "version_minor": 0
      },
      "text/plain": [
       "CHIRPS_Lamdong_2023_10_monthly.tif: |          | 0.00/14.2k (raw) [  0.0%] in 00:00 (eta:     ?)"
      ]
     },
     "metadata": {},
     "output_type": "display_data"
    },
    {
     "name": "stdout",
     "output_type": "stream",
     "text": [
      "✅ Đã lưu: CHIRPS_Lamdong_2023_10_monthly.tif (0.0 MB)\n",
      "✅ Thành công: CHIRPS_Lamdong_2023_10_monthly.tif\n",
      "📈 Tiến trình: 61.1% (22/36)\n",
      "\n",
      "[23/36] Tháng 2023-11\n",
      "   📊 Tổng lượng mưa: 124.1mm (min: 41.3, max: 345.6)\n",
      "   📊 Tổng lượng mưa: 124.1mm (min: 41.3, max: 345.6)\n",
      "📊 Tháng 2023-11: 30 ảnh daily\n",
      "🔄 Đang tải CHIRPS_Lamdong_2023_11_monthly.tif...\n",
      "📊 Tháng 2023-11: 30 ảnh daily\n",
      "🔄 Đang tải CHIRPS_Lamdong_2023_11_monthly.tif...\n"
     ]
    },
    {
     "data": {
      "application/vnd.jupyter.widget-view+json": {
       "model_id": "31a52df160714a1f9ff2572820049a03",
       "version_major": 2,
       "version_minor": 0
      },
      "text/plain": [
       "CHIRPS_Lamdong_2023_11_monthly.tif: |          | 0.00/14.2k (raw) [  0.0%] in 00:00 (eta:     ?)"
      ]
     },
     "metadata": {},
     "output_type": "display_data"
    },
    {
     "name": "stdout",
     "output_type": "stream",
     "text": [
      "✅ Đã lưu: CHIRPS_Lamdong_2023_11_monthly.tif (0.0 MB)\n",
      "✅ Thành công: CHIRPS_Lamdong_2023_11_monthly.tif\n",
      "📈 Tiến trình: 63.9% (23/36)\n",
      "\n",
      "[24/36] Tháng 2023-12\n",
      "   📊 Tổng lượng mưa: 45.8mm (min: 21.6, max: 133.0)\n",
      "   📊 Tổng lượng mưa: 45.8mm (min: 21.6, max: 133.0)\n",
      "📊 Tháng 2023-12: 31 ảnh daily\n",
      "🔄 Đang tải CHIRPS_Lamdong_2023_12_monthly.tif...\n",
      "📊 Tháng 2023-12: 31 ảnh daily\n",
      "🔄 Đang tải CHIRPS_Lamdong_2023_12_monthly.tif...\n"
     ]
    },
    {
     "data": {
      "application/vnd.jupyter.widget-view+json": {
       "model_id": "5500a9dc092e43bba0620be491256775",
       "version_major": 2,
       "version_minor": 0
      },
      "text/plain": [
       "CHIRPS_Lamdong_2023_12_monthly.tif: |          | 0.00/14.2k (raw) [  0.0%] in 00:00 (eta:     ?)"
      ]
     },
     "metadata": {},
     "output_type": "display_data"
    },
    {
     "name": "stdout",
     "output_type": "stream",
     "text": [
      "✅ Đã lưu: CHIRPS_Lamdong_2023_12_monthly.tif (0.0 MB)\n",
      "✅ Thành công: CHIRPS_Lamdong_2023_12_monthly.tif\n",
      "📈 Tiến trình: 66.7% (24/36)\n",
      "\n",
      "[25/36] Tháng 2024-01\n",
      "   📊 Tổng lượng mưa: 8.5mm (min: 0.0, max: 29.3)\n",
      "   📊 Tổng lượng mưa: 8.5mm (min: 0.0, max: 29.3)\n",
      "📊 Tháng 2024-01: 31 ảnh daily\n",
      "🔄 Đang tải CHIRPS_Lamdong_2024_01_monthly.tif...\n",
      "📊 Tháng 2024-01: 31 ảnh daily\n",
      "🔄 Đang tải CHIRPS_Lamdong_2024_01_monthly.tif...\n"
     ]
    },
    {
     "data": {
      "application/vnd.jupyter.widget-view+json": {
       "model_id": "ece222b29ff9475e940624ba302c07f2",
       "version_major": 2,
       "version_minor": 0
      },
      "text/plain": [
       "CHIRPS_Lamdong_2024_01_monthly.tif: |          | 0.00/14.2k (raw) [  0.0%] in 00:00 (eta:     ?)"
      ]
     },
     "metadata": {},
     "output_type": "display_data"
    },
    {
     "name": "stdout",
     "output_type": "stream",
     "text": [
      "✅ Đã lưu: CHIRPS_Lamdong_2024_01_monthly.tif (0.0 MB)\n",
      "✅ Thành công: CHIRPS_Lamdong_2024_01_monthly.tif\n",
      "📈 Tiến trình: 69.4% (25/36)\n",
      "\n",
      "[26/36] Tháng 2024-02\n",
      "   📊 Tổng lượng mưa: 9.6mm (min: 0.0, max: 23.5)\n",
      "   📊 Tổng lượng mưa: 9.6mm (min: 0.0, max: 23.5)\n",
      "📊 Tháng 2024-02: 29 ảnh daily\n",
      "🔄 Đang tải CHIRPS_Lamdong_2024_02_monthly.tif...\n",
      "📊 Tháng 2024-02: 29 ảnh daily\n",
      "🔄 Đang tải CHIRPS_Lamdong_2024_02_monthly.tif...\n"
     ]
    },
    {
     "data": {
      "application/vnd.jupyter.widget-view+json": {
       "model_id": "9bd5d32f71f84ce7aea9674ca3f20c12",
       "version_major": 2,
       "version_minor": 0
      },
      "text/plain": [
       "CHIRPS_Lamdong_2024_02_monthly.tif: |          | 0.00/14.2k (raw) [  0.0%] in 00:00 (eta:     ?)"
      ]
     },
     "metadata": {},
     "output_type": "display_data"
    },
    {
     "name": "stdout",
     "output_type": "stream",
     "text": [
      "✅ Đã lưu: CHIRPS_Lamdong_2024_02_monthly.tif (0.0 MB)\n",
      "✅ Thành công: CHIRPS_Lamdong_2024_02_monthly.tif\n",
      "📈 Tiến trình: 72.2% (26/36)\n",
      "\n",
      "[27/36] Tháng 2024-03\n",
      "   📊 Tổng lượng mưa: 25.3mm (min: 0.0, max: 67.4)\n",
      "   📊 Tổng lượng mưa: 25.3mm (min: 0.0, max: 67.4)\n",
      "📊 Tháng 2024-03: 31 ảnh daily\n",
      "🔄 Đang tải CHIRPS_Lamdong_2024_03_monthly.tif...\n",
      "📊 Tháng 2024-03: 31 ảnh daily\n",
      "🔄 Đang tải CHIRPS_Lamdong_2024_03_monthly.tif...\n"
     ]
    },
    {
     "data": {
      "application/vnd.jupyter.widget-view+json": {
       "model_id": "4e8ed3973ddf42eaa85d387f5f669af7",
       "version_major": 2,
       "version_minor": 0
      },
      "text/plain": [
       "CHIRPS_Lamdong_2024_03_monthly.tif: |          | 0.00/14.2k (raw) [  0.0%] in 00:00 (eta:     ?)"
      ]
     },
     "metadata": {},
     "output_type": "display_data"
    },
    {
     "name": "stdout",
     "output_type": "stream",
     "text": [
      "✅ Đã lưu: CHIRPS_Lamdong_2024_03_monthly.tif (0.0 MB)\n",
      "✅ Thành công: CHIRPS_Lamdong_2024_03_monthly.tif\n",
      "📈 Tiến trình: 75.0% (27/36)\n",
      "\n",
      "[28/36] Tháng 2024-04\n",
      "   📊 Tổng lượng mưa: 29.1mm (min: 2.3, max: 82.1)\n",
      "   📊 Tổng lượng mưa: 29.1mm (min: 2.3, max: 82.1)\n",
      "📊 Tháng 2024-04: 30 ảnh daily\n",
      "🔄 Đang tải CHIRPS_Lamdong_2024_04_monthly.tif...\n",
      "📊 Tháng 2024-04: 30 ảnh daily\n",
      "🔄 Đang tải CHIRPS_Lamdong_2024_04_monthly.tif...\n"
     ]
    },
    {
     "data": {
      "application/vnd.jupyter.widget-view+json": {
       "model_id": "321cd9669d6a45f9a86995f86d3644a6",
       "version_major": 2,
       "version_minor": 0
      },
      "text/plain": [
       "CHIRPS_Lamdong_2024_04_monthly.tif: |          | 0.00/14.2k (raw) [  0.0%] in 00:00 (eta:     ?)"
      ]
     },
     "metadata": {},
     "output_type": "display_data"
    },
    {
     "name": "stdout",
     "output_type": "stream",
     "text": [
      "✅ Đã lưu: CHIRPS_Lamdong_2024_04_monthly.tif (0.0 MB)\n",
      "✅ Thành công: CHIRPS_Lamdong_2024_04_monthly.tif\n",
      "📈 Tiến trình: 77.8% (28/36)\n",
      "\n",
      "[29/36] Tháng 2024-05\n",
      "   📊 Tổng lượng mưa: 275.2mm (min: 115.4, max: 420.2)\n",
      "   📊 Tổng lượng mưa: 275.2mm (min: 115.4, max: 420.2)\n",
      "📊 Tháng 2024-05: 31 ảnh daily\n",
      "🔄 Đang tải CHIRPS_Lamdong_2024_05_monthly.tif...\n",
      "📊 Tháng 2024-05: 31 ảnh daily\n",
      "🔄 Đang tải CHIRPS_Lamdong_2024_05_monthly.tif...\n"
     ]
    },
    {
     "data": {
      "application/vnd.jupyter.widget-view+json": {
       "model_id": "60a0ef79c37d4389a2c001eafee22d3b",
       "version_major": 2,
       "version_minor": 0
      },
      "text/plain": [
       "CHIRPS_Lamdong_2024_05_monthly.tif: |          | 0.00/14.2k (raw) [  0.0%] in 00:00 (eta:     ?)"
      ]
     },
     "metadata": {},
     "output_type": "display_data"
    },
    {
     "name": "stdout",
     "output_type": "stream",
     "text": [
      "✅ Đã lưu: CHIRPS_Lamdong_2024_05_monthly.tif (0.0 MB)\n",
      "✅ Thành công: CHIRPS_Lamdong_2024_05_monthly.tif\n",
      "📈 Tiến trình: 80.6% (29/36)\n",
      "\n",
      "[30/36] Tháng 2024-06\n",
      "   📊 Tổng lượng mưa: 183.2mm (min: 29.3, max: 278.8)\n",
      "   📊 Tổng lượng mưa: 183.2mm (min: 29.3, max: 278.8)\n",
      "📊 Tháng 2024-06: 30 ảnh daily\n",
      "🔄 Đang tải CHIRPS_Lamdong_2024_06_monthly.tif...\n",
      "📊 Tháng 2024-06: 30 ảnh daily\n",
      "🔄 Đang tải CHIRPS_Lamdong_2024_06_monthly.tif...\n"
     ]
    },
    {
     "data": {
      "application/vnd.jupyter.widget-view+json": {
       "model_id": "2a82deee02f9457bb977f8adee0252c9",
       "version_major": 2,
       "version_minor": 0
      },
      "text/plain": [
       "CHIRPS_Lamdong_2024_06_monthly.tif: |          | 0.00/14.2k (raw) [  0.0%] in 00:00 (eta:     ?)"
      ]
     },
     "metadata": {},
     "output_type": "display_data"
    },
    {
     "name": "stdout",
     "output_type": "stream",
     "text": [
      "✅ Đã lưu: CHIRPS_Lamdong_2024_06_monthly.tif (0.0 MB)\n",
      "✅ Thành công: CHIRPS_Lamdong_2024_06_monthly.tif\n",
      "📈 Tiến trình: 83.3% (30/36)\n",
      "\n",
      "[31/36] Tháng 2024-07\n",
      "   📊 Tổng lượng mưa: 368.8mm (min: 162.3, max: 753.1)\n",
      "   📊 Tổng lượng mưa: 368.8mm (min: 162.3, max: 753.1)\n",
      "📊 Tháng 2024-07: 31 ảnh daily\n",
      "🔄 Đang tải CHIRPS_Lamdong_2024_07_monthly.tif...\n",
      "📊 Tháng 2024-07: 31 ảnh daily\n",
      "🔄 Đang tải CHIRPS_Lamdong_2024_07_monthly.tif...\n"
     ]
    },
    {
     "data": {
      "application/vnd.jupyter.widget-view+json": {
       "model_id": "ecccb89464014a01b961007ac1491a98",
       "version_major": 2,
       "version_minor": 0
      },
      "text/plain": [
       "CHIRPS_Lamdong_2024_07_monthly.tif: |          | 0.00/14.2k (raw) [  0.0%] in 00:00 (eta:     ?)"
      ]
     },
     "metadata": {},
     "output_type": "display_data"
    },
    {
     "name": "stdout",
     "output_type": "stream",
     "text": [
      "✅ Đã lưu: CHIRPS_Lamdong_2024_07_monthly.tif (0.0 MB)\n",
      "✅ Thành công: CHIRPS_Lamdong_2024_07_monthly.tif\n",
      "📈 Tiến trình: 86.1% (31/36)\n",
      "\n",
      "[32/36] Tháng 2024-08\n",
      "   📊 Tổng lượng mưa: 367.6mm (min: 106.1, max: 682.6)\n",
      "   📊 Tổng lượng mưa: 367.6mm (min: 106.1, max: 682.6)\n",
      "📊 Tháng 2024-08: 31 ảnh daily\n",
      "🔄 Đang tải CHIRPS_Lamdong_2024_08_monthly.tif...\n",
      "📊 Tháng 2024-08: 31 ảnh daily\n",
      "🔄 Đang tải CHIRPS_Lamdong_2024_08_monthly.tif...\n"
     ]
    },
    {
     "data": {
      "application/vnd.jupyter.widget-view+json": {
       "model_id": "5a105e548fd9401bb9b079978439fbfc",
       "version_major": 2,
       "version_minor": 0
      },
      "text/plain": [
       "CHIRPS_Lamdong_2024_08_monthly.tif: |          | 0.00/14.2k (raw) [  0.0%] in 00:00 (eta:     ?)"
      ]
     },
     "metadata": {},
     "output_type": "display_data"
    },
    {
     "name": "stdout",
     "output_type": "stream",
     "text": [
      "✅ Đã lưu: CHIRPS_Lamdong_2024_08_monthly.tif (0.0 MB)\n",
      "✅ Thành công: CHIRPS_Lamdong_2024_08_monthly.tif\n",
      "📈 Tiến trình: 88.9% (32/36)\n",
      "\n",
      "[33/36] Tháng 2024-09\n",
      "   📊 Tổng lượng mưa: 296.0mm (min: 128.1, max: 442.9)\n",
      "   📊 Tổng lượng mưa: 296.0mm (min: 128.1, max: 442.9)\n",
      "📊 Tháng 2024-09: 30 ảnh daily\n",
      "🔄 Đang tải CHIRPS_Lamdong_2024_09_monthly.tif...\n",
      "📊 Tháng 2024-09: 30 ảnh daily\n",
      "🔄 Đang tải CHIRPS_Lamdong_2024_09_monthly.tif...\n"
     ]
    },
    {
     "data": {
      "application/vnd.jupyter.widget-view+json": {
       "model_id": "b535328fdf714421b9b600d33ff77849",
       "version_major": 2,
       "version_minor": 0
      },
      "text/plain": [
       "CHIRPS_Lamdong_2024_09_monthly.tif: |          | 0.00/14.2k (raw) [  0.0%] in 00:00 (eta:     ?)"
      ]
     },
     "metadata": {},
     "output_type": "display_data"
    },
    {
     "name": "stdout",
     "output_type": "stream",
     "text": [
      "✅ Đã lưu: CHIRPS_Lamdong_2024_09_monthly.tif (0.0 MB)\n",
      "✅ Thành công: CHIRPS_Lamdong_2024_09_monthly.tif\n",
      "📈 Tiến trình: 91.7% (33/36)\n",
      "\n",
      "[34/36] Tháng 2024-10\n",
      "   📊 Tổng lượng mưa: 213.7mm (min: 108.9, max: 351.7)\n",
      "   📊 Tổng lượng mưa: 213.7mm (min: 108.9, max: 351.7)\n",
      "📊 Tháng 2024-10: 31 ảnh daily\n",
      "🔄 Đang tải CHIRPS_Lamdong_2024_10_monthly.tif...\n",
      "📊 Tháng 2024-10: 31 ảnh daily\n",
      "🔄 Đang tải CHIRPS_Lamdong_2024_10_monthly.tif...\n"
     ]
    },
    {
     "data": {
      "application/vnd.jupyter.widget-view+json": {
       "model_id": "904be4ea5e8043fdbb5b74ce61398839",
       "version_major": 2,
       "version_minor": 0
      },
      "text/plain": [
       "CHIRPS_Lamdong_2024_10_monthly.tif: |          | 0.00/14.2k (raw) [  0.0%] in 00:00 (eta:     ?)"
      ]
     },
     "metadata": {},
     "output_type": "display_data"
    },
    {
     "name": "stdout",
     "output_type": "stream",
     "text": [
      "✅ Đã lưu: CHIRPS_Lamdong_2024_10_monthly.tif (0.0 MB)\n",
      "✅ Thành công: CHIRPS_Lamdong_2024_10_monthly.tif\n",
      "📈 Tiến trình: 94.4% (34/36)\n",
      "\n",
      "[35/36] Tháng 2024-11\n",
      "   📊 Tổng lượng mưa: 79.7mm (min: 21.7, max: 192.7)\n",
      "   📊 Tổng lượng mưa: 79.7mm (min: 21.7, max: 192.7)\n",
      "📊 Tháng 2024-11: 30 ảnh daily\n",
      "🔄 Đang tải CHIRPS_Lamdong_2024_11_monthly.tif...\n",
      "📊 Tháng 2024-11: 30 ảnh daily\n",
      "🔄 Đang tải CHIRPS_Lamdong_2024_11_monthly.tif...\n"
     ]
    },
    {
     "data": {
      "application/vnd.jupyter.widget-view+json": {
       "model_id": "f2651948c34a47c2b5b4a717ad313f59",
       "version_major": 2,
       "version_minor": 0
      },
      "text/plain": [
       "CHIRPS_Lamdong_2024_11_monthly.tif: |          | 0.00/14.2k (raw) [  0.0%] in 00:00 (eta:     ?)"
      ]
     },
     "metadata": {},
     "output_type": "display_data"
    },
    {
     "name": "stdout",
     "output_type": "stream",
     "text": [
      "✅ Đã lưu: CHIRPS_Lamdong_2024_11_monthly.tif (0.0 MB)\n",
      "✅ Thành công: CHIRPS_Lamdong_2024_11_monthly.tif\n",
      "📈 Tiến trình: 97.2% (35/36)\n",
      "\n",
      "[36/36] Tháng 2024-12\n",
      "   📊 Tổng lượng mưa: 149.5mm (min: 46.0, max: 320.2)\n",
      "   📊 Tổng lượng mưa: 149.5mm (min: 46.0, max: 320.2)\n",
      "📊 Tháng 2024-12: 31 ảnh daily\n",
      "🔄 Đang tải CHIRPS_Lamdong_2024_12_monthly.tif...\n",
      "📊 Tháng 2024-12: 31 ảnh daily\n",
      "🔄 Đang tải CHIRPS_Lamdong_2024_12_monthly.tif...\n"
     ]
    },
    {
     "data": {
      "application/vnd.jupyter.widget-view+json": {
       "model_id": "1abc27d1a45b4250a0129bc5a4e74e2b",
       "version_major": 2,
       "version_minor": 0
      },
      "text/plain": [
       "CHIRPS_Lamdong_2024_12_monthly.tif: |          | 0.00/14.2k (raw) [  0.0%] in 00:00 (eta:     ?)"
      ]
     },
     "metadata": {},
     "output_type": "display_data"
    },
    {
     "name": "stdout",
     "output_type": "stream",
     "text": [
      "✅ Đã lưu: CHIRPS_Lamdong_2024_12_monthly.tif (0.0 MB)\n",
      "✅ Thành công: CHIRPS_Lamdong_2024_12_monthly.tif\n",
      "📈 Tiến trình: 100.0% (36/36)\n",
      "\n",
      "==================================================\n",
      "🎉 HOÀN TẤT QUÁ TRÌNH TẢI CHIRPS!\n",
      "==================================================\n",
      "✅ Thành công:\n",
      "   - Đã tải: 36/36 file\n",
      "   - Tổng dung lượng: 0.2 MB (0.00 GB)\n",
      "   - Thư mục: ./chirps_data\n",
      "   - Năm 2022: 12 file (0.1 MB)\n",
      "   - Năm 2023: 12 file (0.1 MB)\n",
      "   - Năm 2024: 12 file (0.1 MB)\n",
      "\n",
      "📋 Danh sách file đã tải:\n",
      "    1. CHIRPS_Lamdong_2022_01_monthly.tif (0.01 MB)\n",
      "    2. CHIRPS_Lamdong_2022_02_monthly.tif (0.01 MB)\n",
      "    3. CHIRPS_Lamdong_2022_03_monthly.tif (0.01 MB)\n",
      "    4. CHIRPS_Lamdong_2022_04_monthly.tif (0.01 MB)\n",
      "    5. CHIRPS_Lamdong_2022_05_monthly.tif (0.01 MB)\n",
      "    6. CHIRPS_Lamdong_2022_06_monthly.tif (0.01 MB)\n",
      "    7. CHIRPS_Lamdong_2022_07_monthly.tif (0.01 MB)\n",
      "    8. CHIRPS_Lamdong_2022_08_monthly.tif (0.01 MB)\n",
      "    9. CHIRPS_Lamdong_2022_09_monthly.tif (0.01 MB)\n",
      "   10. CHIRPS_Lamdong_2022_10_monthly.tif (0.01 MB)\n",
      "   11. CHIRPS_Lamdong_2022_11_monthly.tif (0.01 MB)\n",
      "   12. CHIRPS_Lamdong_2022_12_monthly.tif (0.01 MB)\n",
      "   13. CHIRPS_Lamdong_2023_01_monthly.tif (0.01 MB)\n",
      "   14. CHIRPS_Lamdong_2023_02_monthly.tif (0.01 MB)\n",
      "   15. CHIRPS_Lamdong_2023_03_monthly.tif (0.01 MB)\n",
      "   16. CHIRPS_Lamdong_2023_04_monthly.tif (0.01 MB)\n",
      "   17. CHIRPS_Lamdong_2023_05_monthly.tif (0.01 MB)\n",
      "   18. CHIRPS_Lamdong_2023_06_monthly.tif (0.01 MB)\n",
      "   19. CHIRPS_Lamdong_2023_07_monthly.tif (0.01 MB)\n",
      "   20. CHIRPS_Lamdong_2023_08_monthly.tif (0.01 MB)\n",
      "   21. CHIRPS_Lamdong_2023_09_monthly.tif (0.01 MB)\n",
      "   22. CHIRPS_Lamdong_2023_10_monthly.tif (0.01 MB)\n",
      "   23. CHIRPS_Lamdong_2023_11_monthly.tif (0.01 MB)\n",
      "   24. CHIRPS_Lamdong_2023_12_monthly.tif (0.01 MB)\n",
      "   25. CHIRPS_Lamdong_2024_01_monthly.tif (0.01 MB)\n",
      "   26. CHIRPS_Lamdong_2024_02_monthly.tif (0.01 MB)\n",
      "   27. CHIRPS_Lamdong_2024_03_monthly.tif (0.01 MB)\n",
      "   28. CHIRPS_Lamdong_2024_04_monthly.tif (0.01 MB)\n",
      "   29. CHIRPS_Lamdong_2024_05_monthly.tif (0.01 MB)\n",
      "   30. CHIRPS_Lamdong_2024_06_monthly.tif (0.01 MB)\n",
      "   31. CHIRPS_Lamdong_2024_07_monthly.tif (0.01 MB)\n",
      "   32. CHIRPS_Lamdong_2024_08_monthly.tif (0.01 MB)\n",
      "   33. CHIRPS_Lamdong_2024_09_monthly.tif (0.01 MB)\n",
      "   34. CHIRPS_Lamdong_2024_10_monthly.tif (0.01 MB)\n",
      "   35. CHIRPS_Lamdong_2024_11_monthly.tif (0.01 MB)\n",
      "   36. CHIRPS_Lamdong_2024_12_monthly.tif (0.01 MB)\n",
      "\n",
      "🔍 Sử dụng cell tiếp theo để kiểm tra chi tiết và phân tích dữ liệu!\n",
      "💡 Ứng dụng cho độ ẩm đất:\n",
      "   - CHIRPS cung cấp tổng lượng mưa hàng tháng từ dữ liệu daily\n",
      "   - Có thể tích hợp với Sentinel-1/2 để mô hình hóa độ ẩm đất\n",
      "   - Phù hợp cho nghiên cứu nông nghiệp và quản lý tài nguyên nước\n",
      "   - Dữ liệu được tính từ tổng lượng mưa daily trong tháng\n"
     ]
    }
   ],
   "source": [
    "# TẢI DỮ LIỆU CHIRPS THÁNG (2022-2024)\n",
    "print(\"=== TẢI DỮ LIỆU CHIRPS PRECIPITATION THÁNG ===\")\n",
    "print(\"Thời gian: Tháng 1/2022 → Tháng 12/2024\")\n",
    "print(\"Dữ liệu: CHIRPS Daily → Monthly Composite (mm)\")\n",
    "print(\"Độ phân giải: 5.5km (~0.05 degree)\")\n",
    "print(\"Phương pháp: Tổng lượng mưa daily trong tháng\")\n",
    "\n",
    "# Cấu hình\n",
    "SCALE = 5500  # Độ phân giải native của CHIRPS\n",
    "total_months = 3 * 12  # 3 năm × 12 tháng = 36 tháng\n",
    "\n",
    "# Ước tính kích thước file\n",
    "print(f\"\\n🔍 Ước tính kích thước với độ phân giải {SCALE}m:\")\n",
    "estimated_size = estimate_chirps_file_size(SCALE)\n",
    "\n",
    "print(f\"📊 Tổng quan:\")\n",
    "print(f\"   - Số tháng cần tải: {total_months} tháng\")\n",
    "print(f\"   - Kích thước ước tính/file: {estimated_size:.2f} MB\")\n",
    "print(f\"   - Tổng dung lượng ước tính: {(estimated_size * total_months):.1f} MB ({(estimated_size * total_months)/1024:.2f} GB)\")\n",
    "\n",
    "# Hiển thị một số thống kê mẫu\n",
    "print(f\"\\n📈 Thống kê mẫu (tháng 1/2022):\")\n",
    "sample_stats = get_chirps_stats(2022, 1)\n",
    "if sample_stats:\n",
    "    precip_stats = sample_stats.get('precipitation_mean', 0)\n",
    "    print(f\"   - Lượng mưa tổng: {precip_stats:.1f} mm/tháng\")\n",
    "\n",
    "print(f\"\\n🚀 BẮT ĐẦU TẢI {total_months} FILE CHIRPS THÁNG...\")\n",
    "\n",
    "downloaded_files = []\n",
    "failed_months = []\n",
    "count = 0\n",
    "\n",
    "# Tải từng tháng từ 2022-2024\n",
    "for year in range(2022, 2025):  # 2022, 2023, 2024\n",
    "    for month in range(1, 13):  # Tháng 1-12\n",
    "        count += 1\n",
    "        \n",
    "        print(f\"\\n[{count}/{total_months}] Tháng {year}-{month:02d}\")\n",
    "        \n",
    "        try:\n",
    "            # Hiển thị thống kê trước khi tải\n",
    "            stats = get_chirps_stats(year, month)\n",
    "            if stats and 'precipitation_mean' in stats:\n",
    "                avg_precip = stats['precipitation_mean']\n",
    "                min_precip = stats.get('precipitation_min', 0)\n",
    "                max_precip = stats.get('precipitation_max', 0)\n",
    "                print(f\"   📊 Tổng lượng mưa: {avg_precip:.1f}mm (min: {min_precip:.1f}, max: {max_precip:.1f})\")\n",
    "            \n",
    "            # Tải file\n",
    "            filepath = download_monthly_chirps(year, month, SCALE)\n",
    "            \n",
    "            if filepath:\n",
    "                downloaded_files.append(filepath)\n",
    "                print(f\"✅ Thành công: {os.path.basename(filepath)}\")\n",
    "            else:\n",
    "                failed_months.append(f\"{year}-{month:02d}\")\n",
    "                print(f\"❌ Thất bại: {year}-{month:02d}\")\n",
    "                \n",
    "        except Exception as e:\n",
    "            failed_months.append(f\"{year}-{month:02d}\")\n",
    "            print(f\"❌ Lỗi {year}-{month:02d}: {str(e)}\")\n",
    "        \n",
    "        # Hiển thị tiến trình\n",
    "        progress = (count / total_months) * 100\n",
    "        print(f\"📈 Tiến trình: {progress:.1f}% ({count}/{total_months})\")\n",
    "\n",
    "# Tổng kết\n",
    "print(f\"\\n{'='*50}\")\n",
    "print(f\"🎉 HOÀN TẤT QUÁ TRÌNH TẢI CHIRPS!\")\n",
    "print(f\"{'='*50}\")\n",
    "\n",
    "if downloaded_files:\n",
    "    total_size = sum(os.path.getsize(f) for f in downloaded_files) / (1024*1024)\n",
    "    \n",
    "    print(f\"✅ Thành công:\")\n",
    "    print(f\"   - Đã tải: {len(downloaded_files)}/{total_months} file\")\n",
    "    print(f\"   - Tổng dung lượng: {total_size:.1f} MB ({total_size/1024:.2f} GB)\")\n",
    "    print(f\"   - Thư mục: {output_folder}\")\n",
    "    \n",
    "    # Thống kê theo năm\n",
    "    for year in range(2022, 2025):\n",
    "        year_files = [f for f in downloaded_files if f\"_{year}_\" in f]\n",
    "        year_size = sum(os.path.getsize(f) for f in year_files) / (1024*1024)\n",
    "        print(f\"   - Năm {year}: {len(year_files)} file ({year_size:.1f} MB)\")\n",
    "\n",
    "if failed_months:\n",
    "    print(f\"\\n❌ Thất bại ({len(failed_months)} tháng):\")\n",
    "    for month in failed_months:\n",
    "        print(f\"   - {month}\")\n",
    "    print(f\"\\n💡 Có thể thử lại các tháng thất bại bằng cách chạy:\")\n",
    "    print(f\"   download_monthly_chirps(year, month, {SCALE})\")\n",
    "\n",
    "print(f\"\\n📋 Danh sách file đã tải:\")\n",
    "for i, filepath in enumerate(downloaded_files, 1):\n",
    "    filename = os.path.basename(filepath)\n",
    "    size = os.path.getsize(filepath) / (1024*1024)\n",
    "    print(f\"   {i:2d}. {filename} ({size:.2f} MB)\")\n",
    "\n",
    "print(f\"\\n🔍 Sử dụng cell tiếp theo để kiểm tra chi tiết và phân tích dữ liệu!\")\n",
    "print(f\"💡 Ứng dụng cho độ ẩm đất:\")\n",
    "print(f\"   - CHIRPS cung cấp tổng lượng mưa hàng tháng từ dữ liệu daily\")\n",
    "print(f\"   - Có thể tích hợp với Sentinel-1/2 để mô hình hóa độ ẩm đất\")\n",
    "print(f\"   - Phù hợp cho nghiên cứu nông nghiệp và quản lý tài nguyên nước\")\n",
    "print(f\"   - Dữ liệu được tính từ tổng lượng mưa daily trong tháng\")"
   ]
  },
  {
   "cell_type": "code",
   "execution_count": 5,
   "id": "fefb36eb",
   "metadata": {},
   "outputs": [
    {
     "data": {
      "text/html": [
       "\n",
       "            <style>\n",
       "                .geemap-dark {\n",
       "                    --jp-widgets-color: white;\n",
       "                    --jp-widgets-label-color: white;\n",
       "                    --jp-ui-font-color1: white;\n",
       "                    --jp-layout-color2: #454545;\n",
       "                    background-color: #383838;\n",
       "                }\n",
       "\n",
       "                .geemap-dark .jupyter-button {\n",
       "                    --jp-layout-color3: #383838;\n",
       "                }\n",
       "\n",
       "                .geemap-colab {\n",
       "                    background-color: var(--colab-primary-surface-color, white);\n",
       "                }\n",
       "\n",
       "                .geemap-colab .jupyter-button {\n",
       "                    --jp-layout-color3: var(--colab-primary-surface-color, white);\n",
       "                }\n",
       "            </style>\n",
       "            "
      ],
      "text/plain": [
       "<IPython.core.display.HTML object>"
      ]
     },
     "metadata": {},
     "output_type": "display_data"
    },
    {
     "name": "stdout",
     "output_type": "stream",
     "text": [
      "=== KIỂM TRA KẾT QUẢ TẢI CHIRPS ===\n",
      "📊 Đã tải 36 file CHIRPS:\n",
      "📁 Thư mục: ./chirps_data\n",
      "    1. CHIRPS_Lamdong_2022_01_monthly.tif (0.01 MB)\n",
      "    2. CHIRPS_Lamdong_2022_02_monthly.tif (0.01 MB)\n",
      "    3. CHIRPS_Lamdong_2022_03_monthly.tif (0.01 MB)\n",
      "    4. CHIRPS_Lamdong_2022_04_monthly.tif (0.01 MB)\n",
      "    5. CHIRPS_Lamdong_2022_05_monthly.tif (0.01 MB)\n",
      "    6. CHIRPS_Lamdong_2022_06_monthly.tif (0.01 MB)\n",
      "    7. CHIRPS_Lamdong_2022_07_monthly.tif (0.01 MB)\n",
      "    8. CHIRPS_Lamdong_2022_08_monthly.tif (0.01 MB)\n",
      "    9. CHIRPS_Lamdong_2022_09_monthly.tif (0.01 MB)\n",
      "   10. CHIRPS_Lamdong_2022_10_monthly.tif (0.01 MB)\n",
      "   11. CHIRPS_Lamdong_2022_11_monthly.tif (0.01 MB)\n",
      "   12. CHIRPS_Lamdong_2022_12_monthly.tif (0.01 MB)\n",
      "   13. CHIRPS_Lamdong_2023_01_monthly.tif (0.01 MB)\n",
      "   14. CHIRPS_Lamdong_2023_02_monthly.tif (0.01 MB)\n",
      "   15. CHIRPS_Lamdong_2023_03_monthly.tif (0.01 MB)\n",
      "   16. CHIRPS_Lamdong_2023_04_monthly.tif (0.01 MB)\n",
      "   17. CHIRPS_Lamdong_2023_05_monthly.tif (0.01 MB)\n",
      "   18. CHIRPS_Lamdong_2023_06_monthly.tif (0.01 MB)\n",
      "   19. CHIRPS_Lamdong_2023_07_monthly.tif (0.01 MB)\n",
      "   20. CHIRPS_Lamdong_2023_08_monthly.tif (0.01 MB)\n",
      "   21. CHIRPS_Lamdong_2023_09_monthly.tif (0.01 MB)\n",
      "   22. CHIRPS_Lamdong_2023_10_monthly.tif (0.01 MB)\n",
      "   23. CHIRPS_Lamdong_2023_11_monthly.tif (0.01 MB)\n",
      "   24. CHIRPS_Lamdong_2023_12_monthly.tif (0.01 MB)\n",
      "   25. CHIRPS_Lamdong_2024_01_monthly.tif (0.01 MB)\n",
      "   26. CHIRPS_Lamdong_2024_02_monthly.tif (0.01 MB)\n",
      "   27. CHIRPS_Lamdong_2024_03_monthly.tif (0.01 MB)\n",
      "   28. CHIRPS_Lamdong_2024_04_monthly.tif (0.01 MB)\n",
      "   29. CHIRPS_Lamdong_2024_05_monthly.tif (0.01 MB)\n",
      "   30. CHIRPS_Lamdong_2024_06_monthly.tif (0.01 MB)\n",
      "   31. CHIRPS_Lamdong_2024_07_monthly.tif (0.01 MB)\n",
      "   32. CHIRPS_Lamdong_2024_08_monthly.tif (0.01 MB)\n",
      "   33. CHIRPS_Lamdong_2024_09_monthly.tif (0.01 MB)\n",
      "   34. CHIRPS_Lamdong_2024_10_monthly.tif (0.01 MB)\n",
      "   35. CHIRPS_Lamdong_2024_11_monthly.tif (0.01 MB)\n",
      "   36. CHIRPS_Lamdong_2024_12_monthly.tif (0.01 MB)\n",
      "\n",
      "📈 Tổng quan:\n",
      "   - Tổng số file: 36\n",
      "   - Tổng dung lượng: 0.2 MB (0.00 GB)\n",
      "   - Kích thước trung bình: 0.01 MB/file\n",
      "   - Năm 2022: 12 file (0.1 MB)\n",
      "   - Năm 2023: 12 file (0.1 MB)\n",
      "   - Năm 2024: 12 file (0.1 MB)\n",
      "\n",
      "💡 Sử dụng:\n",
      "   - analyze_chirps_file('filename.tif') để phân tích chi tiết file\n",
      "   - generate_chirps_summary() để tạo báo cáo tóm tắt\n",
      "   - clean_chirps_folder() để xóa tất cả file\n",
      "\n",
      "🔍 Phân tích file đầu tiên:\n",
      "📄 Phân tích file: CHIRPS_Lamdong_2022_01_monthly.tif\n",
      "   - Kích thước: 37 x 48 pixels\n",
      "   - Số bands: 1\n",
      "   - CRS: EPSG:4326\n",
      "   - Bounds: BoundingBox(left=107.16452181903831, bottom=10.47435621283362, right=108.99259342222155, top=12.845908562909157)\n",
      "   - Data type: float64\n",
      "   - Lượng mưa (mm):\n",
      "     • Trung bình: 5.7 mm\n",
      "     • Min: 0.0 mm\n",
      "     • Max: 16.5 mm\n",
      "     • Std: 3.8 mm\n",
      "     • Median: 5.9 mm\n",
      "   - Phân loại mưa:\n",
      "     • Khô hạn (<50mm): 100.0%\n",
      "     • Bình thường (50-150mm): 0.0%\n",
      "     • Ẩm ướt (>150mm): 0.0%\n",
      "\n",
      "📋 Tạo báo cáo tóm tắt:\n",
      "📊 Đã tải 36 file CHIRPS:\n",
      "📁 Thư mục: ./chirps_data\n",
      "    1. CHIRPS_Lamdong_2022_01_monthly.tif (0.01 MB)\n",
      "    2. CHIRPS_Lamdong_2022_02_monthly.tif (0.01 MB)\n",
      "    3. CHIRPS_Lamdong_2022_03_monthly.tif (0.01 MB)\n",
      "    4. CHIRPS_Lamdong_2022_04_monthly.tif (0.01 MB)\n",
      "    5. CHIRPS_Lamdong_2022_05_monthly.tif (0.01 MB)\n",
      "    6. CHIRPS_Lamdong_2022_06_monthly.tif (0.01 MB)\n",
      "    7. CHIRPS_Lamdong_2022_07_monthly.tif (0.01 MB)\n",
      "    8. CHIRPS_Lamdong_2022_08_monthly.tif (0.01 MB)\n",
      "    9. CHIRPS_Lamdong_2022_09_monthly.tif (0.01 MB)\n",
      "   10. CHIRPS_Lamdong_2022_10_monthly.tif (0.01 MB)\n",
      "   11. CHIRPS_Lamdong_2022_11_monthly.tif (0.01 MB)\n",
      "   12. CHIRPS_Lamdong_2022_12_monthly.tif (0.01 MB)\n",
      "   13. CHIRPS_Lamdong_2023_01_monthly.tif (0.01 MB)\n",
      "   14. CHIRPS_Lamdong_2023_02_monthly.tif (0.01 MB)\n",
      "   15. CHIRPS_Lamdong_2023_03_monthly.tif (0.01 MB)\n",
      "   16. CHIRPS_Lamdong_2023_04_monthly.tif (0.01 MB)\n",
      "   17. CHIRPS_Lamdong_2023_05_monthly.tif (0.01 MB)\n",
      "   18. CHIRPS_Lamdong_2023_06_monthly.tif (0.01 MB)\n",
      "   19. CHIRPS_Lamdong_2023_07_monthly.tif (0.01 MB)\n",
      "   20. CHIRPS_Lamdong_2023_08_monthly.tif (0.01 MB)\n",
      "   21. CHIRPS_Lamdong_2023_09_monthly.tif (0.01 MB)\n",
      "   22. CHIRPS_Lamdong_2023_10_monthly.tif (0.01 MB)\n",
      "   23. CHIRPS_Lamdong_2023_11_monthly.tif (0.01 MB)\n",
      "   24. CHIRPS_Lamdong_2023_12_monthly.tif (0.01 MB)\n",
      "   25. CHIRPS_Lamdong_2024_01_monthly.tif (0.01 MB)\n",
      "   26. CHIRPS_Lamdong_2024_02_monthly.tif (0.01 MB)\n",
      "   27. CHIRPS_Lamdong_2024_03_monthly.tif (0.01 MB)\n",
      "   28. CHIRPS_Lamdong_2024_04_monthly.tif (0.01 MB)\n",
      "   29. CHIRPS_Lamdong_2024_05_monthly.tif (0.01 MB)\n",
      "   30. CHIRPS_Lamdong_2024_06_monthly.tif (0.01 MB)\n",
      "   31. CHIRPS_Lamdong_2024_07_monthly.tif (0.01 MB)\n",
      "   32. CHIRPS_Lamdong_2024_08_monthly.tif (0.01 MB)\n",
      "   33. CHIRPS_Lamdong_2024_09_monthly.tif (0.01 MB)\n",
      "   34. CHIRPS_Lamdong_2024_10_monthly.tif (0.01 MB)\n",
      "   35. CHIRPS_Lamdong_2024_11_monthly.tif (0.01 MB)\n",
      "   36. CHIRPS_Lamdong_2024_12_monthly.tif (0.01 MB)\n",
      "\n",
      "📈 Tổng quan:\n",
      "   - Tổng số file: 36\n",
      "   - Tổng dung lượng: 0.2 MB (0.00 GB)\n",
      "   - Kích thước trung bình: 0.01 MB/file\n",
      "   - Năm 2022: 12 file (0.1 MB)\n",
      "   - Năm 2023: 12 file (0.1 MB)\n",
      "   - Năm 2024: 12 file (0.1 MB)\n",
      "\n",
      "📊 BÁO CÁO TÓM TẮT DỮ LIỆU CHIRPS\n",
      "==================================================\n",
      "\n",
      "🗓️  Năm 2022 (12 tháng):\n",
      "   - Lượng mưa trung bình: 200.1 mm/tháng\n",
      "   - Tổng lượng mưa: 2401.7 mm/năm\n",
      "   - Tháng khô nhất: 5.7 mm\n",
      "   - Tháng ẩm nhất: 352.9 mm\n",
      "\n",
      "🗓️  Năm 2023 (12 tháng):\n",
      "   - Lượng mưa trung bình: 168.9 mm/tháng\n",
      "   - Tổng lượng mưa: 2027.4 mm/năm\n",
      "   - Tháng khô nhất: 10.3 mm\n",
      "   - Tháng ẩm nhất: 393.9 mm\n",
      "\n",
      "🗓️  Năm 2024 (12 tháng):\n",
      "   - Lượng mưa trung bình: 166.5 mm/tháng\n",
      "   - Tổng lượng mưa: 1997.9 mm/năm\n",
      "   - Tháng khô nhất: 8.6 mm\n",
      "   - Tháng ẩm nhất: 369.2 mm\n",
      "\n",
      "💡 Ứng dụng cho nghiên cứu độ ẩm đất:\n",
      "   - Dữ liệu CHIRPS có thể được sử dụng làm input cho mô hình độ ẩm đất\n",
      "   - Kết hợp với dữ liệu Sentinel-1/2 để cải thiện độ chính xác\n",
      "   - Phân tích mối quan hệ giữa lượng mưa và độ ẩm đất theo thời gian\n"
     ]
    }
   ],
   "source": [
    "# KIỂM TRA VÀ PHÂN TÍCH KẾT QUẢ CHIRPS\n",
    "print(\"=== KIỂM TRA KẾT QUẢ TẢI CHIRPS ===\")\n",
    "\n",
    "def check_chirps_files():\n",
    "    \"\"\"Kiểm tra các file CHIRPS đã tải với thông tin chi tiết\"\"\"\n",
    "    if not os.path.exists(output_folder):\n",
    "        print(\"❌ Thư mục dữ liệu chưa tồn tại\")\n",
    "        return []\n",
    "    \n",
    "    files = [f for f in os.listdir(output_folder) if f.endswith('.tif')]\n",
    "    \n",
    "    if not files:\n",
    "        print(\"📂 Thư mục trống - chưa có file nào\")\n",
    "        return []\n",
    "    \n",
    "    # Sắp xếp files theo tên\n",
    "    files.sort()\n",
    "    \n",
    "    print(f\"📊 Đã tải {len(files)} file CHIRPS:\")\n",
    "    print(f\"📁 Thư mục: {output_folder}\")\n",
    "    \n",
    "    total_size = 0\n",
    "    monthly_stats = []\n",
    "    \n",
    "    for i, file in enumerate(files, 1):\n",
    "        filepath = os.path.join(output_folder, file)\n",
    "        size = os.path.getsize(filepath) / (1024*1024)  # MB\n",
    "        total_size += size\n",
    "        \n",
    "        # Trích xuất thông tin từ tên file\n",
    "        parts = file.split('_')\n",
    "        if len(parts) >= 4:\n",
    "            year = int(parts[2])\n",
    "            month = int(parts[3])\n",
    "            monthly_stats.append((year, month, size))\n",
    "        \n",
    "        print(f\"   {i:2d}. {file} ({size:.2f} MB)\")\n",
    "    \n",
    "    print(f\"\\n📈 Tổng quan:\")\n",
    "    print(f\"   - Tổng số file: {len(files)}\")\n",
    "    print(f\"   - Tổng dung lượng: {total_size:.1f} MB ({total_size/1024:.2f} GB)\")\n",
    "    print(f\"   - Kích thước trung bình: {total_size/len(files):.2f} MB/file\")\n",
    "    \n",
    "    # Thống kê theo năm\n",
    "    for year in range(2022, 2025):\n",
    "        year_files = [f for f in files if f\"_{year}_\" in f]\n",
    "        year_size = sum(os.path.getsize(os.path.join(output_folder, f)) for f in year_files) / (1024*1024)\n",
    "        print(f\"   - Năm {year}: {len(year_files)} file ({year_size:.1f} MB)\")\n",
    "    \n",
    "    return files\n",
    "\n",
    "def analyze_chirps_file(filename):\n",
    "    \"\"\"Phân tích chi tiết file CHIRPS\"\"\"\n",
    "    filepath = os.path.join(output_folder, filename)\n",
    "    \n",
    "    if not os.path.exists(filepath):\n",
    "        print(f\"❌ File không tồn tại: {filename}\")\n",
    "        return\n",
    "    \n",
    "    try:\n",
    "        import rasterio\n",
    "        import numpy as np\n",
    "        \n",
    "        with rasterio.open(filepath) as src:\n",
    "            print(f\"📄 Phân tích file: {filename}\")\n",
    "            print(f\"   - Kích thước: {src.width} x {src.height} pixels\")\n",
    "            print(f\"   - Số bands: {src.count}\")\n",
    "            print(f\"   - CRS: {src.crs}\")\n",
    "            print(f\"   - Bounds: {src.bounds}\")\n",
    "            print(f\"   - Data type: {src.dtypes[0]}\")\n",
    "            \n",
    "            # Đọc dữ liệu precipitation\n",
    "            precipitation = src.read(1)\n",
    "            \n",
    "            # Loại bỏ nodata values\n",
    "            valid_data = precipitation[precipitation != src.nodata]\n",
    "            \n",
    "            if len(valid_data) > 0:\n",
    "                print(f\"   - Lượng mưa (mm):\")\n",
    "                print(f\"     • Trung bình: {np.mean(valid_data):.1f} mm\")\n",
    "                print(f\"     • Min: {np.min(valid_data):.1f} mm\")\n",
    "                print(f\"     • Max: {np.max(valid_data):.1f} mm\")\n",
    "                print(f\"     • Std: {np.std(valid_data):.1f} mm\")\n",
    "                print(f\"     • Median: {np.median(valid_data):.1f} mm\")\n",
    "                \n",
    "                # Phân loại mức độ mưa\n",
    "                dry_pixels = np.sum(valid_data < 50)\n",
    "                normal_pixels = np.sum((valid_data >= 50) & (valid_data < 150))\n",
    "                wet_pixels = np.sum(valid_data >= 150)\n",
    "                \n",
    "                total_pixels = len(valid_data)\n",
    "                print(f\"   - Phân loại mưa:\")\n",
    "                print(f\"     • Khô hạn (<50mm): {dry_pixels/total_pixels*100:.1f}%\")\n",
    "                print(f\"     • Bình thường (50-150mm): {normal_pixels/total_pixels*100:.1f}%\")\n",
    "                print(f\"     • Ẩm ướt (>150mm): {wet_pixels/total_pixels*100:.1f}%\")\n",
    "            else:\n",
    "                print(f\"   - Không có dữ liệu hợp lệ\")\n",
    "            \n",
    "    except ImportError:\n",
    "        print(f\"💡 Cài đặt rasterio và numpy để phân tích chi tiết:\")\n",
    "        print(f\"   pip install rasterio numpy\")\n",
    "        file_size = os.path.getsize(filepath) / (1024*1024)\n",
    "        print(f\"📄 {filename}: {file_size:.2f} MB\")\n",
    "    except Exception as e:\n",
    "        print(f\"❌ Lỗi đọc file: {str(e)}\")\n",
    "\n",
    "def generate_chirps_summary():\n",
    "    \"\"\"Tạo báo cáo tóm tắt dữ liệu CHIRPS\"\"\"\n",
    "    files = check_chirps_files()\n",
    "    \n",
    "    if not files:\n",
    "        return\n",
    "    \n",
    "    print(f\"\\n📊 BÁO CÁO TÓM TẮT DỮ LIỆU CHIRPS\")\n",
    "    print(f\"{'='*50}\")\n",
    "    \n",
    "    try:\n",
    "        import rasterio\n",
    "        import numpy as np\n",
    "        \n",
    "        yearly_stats = {}\n",
    "        \n",
    "        for file in files:\n",
    "            filepath = os.path.join(output_folder, file)\n",
    "            parts = file.split('_')\n",
    "            \n",
    "            if len(parts) >= 4:\n",
    "                year = int(parts[2])\n",
    "                month = int(parts[3])\n",
    "                \n",
    "                if year not in yearly_stats:\n",
    "                    yearly_stats[year] = {'months': [], 'total_precip': []}\n",
    "                \n",
    "                with rasterio.open(filepath) as src:\n",
    "                    precipitation = src.read(1)\n",
    "                    valid_data = precipitation[precipitation != src.nodata]\n",
    "                    \n",
    "                    if len(valid_data) > 0:\n",
    "                        avg_precip = np.mean(valid_data)\n",
    "                        yearly_stats[year]['months'].append(month)\n",
    "                        yearly_stats[year]['total_precip'].append(avg_precip)\n",
    "        \n",
    "        # Hiển thị thống kê theo năm\n",
    "        for year in sorted(yearly_stats.keys()):\n",
    "            stats = yearly_stats[year]\n",
    "            if stats['total_precip']:\n",
    "                avg_annual = np.mean(stats['total_precip'])\n",
    "                total_annual = np.sum(stats['total_precip'])\n",
    "                months_count = len(stats['months'])\n",
    "                \n",
    "                print(f\"\\n🗓️  Năm {year} ({months_count} tháng):\")\n",
    "                print(f\"   - Lượng mưa trung bình: {avg_annual:.1f} mm/tháng\")\n",
    "                print(f\"   - Tổng lượng mưa: {total_annual:.1f} mm/năm\")\n",
    "                print(f\"   - Tháng khô nhất: {min(stats['total_precip']):.1f} mm\")\n",
    "                print(f\"   - Tháng ẩm nhất: {max(stats['total_precip']):.1f} mm\")\n",
    "        \n",
    "        print(f\"\\n💡 Ứng dụng cho nghiên cứu độ ẩm đất:\")\n",
    "        print(f\"   - Dữ liệu CHIRPS có thể được sử dụng làm input cho mô hình độ ẩm đất\")\n",
    "        print(f\"   - Kết hợp với dữ liệu Sentinel-1/2 để cải thiện độ chính xác\")\n",
    "        print(f\"   - Phân tích mối quan hệ giữa lượng mưa và độ ẩm đất theo thời gian\")\n",
    "        \n",
    "    except ImportError:\n",
    "        print(\"💡 Cài đặt rasterio và numpy để tạo báo cáo chi tiết\")\n",
    "\n",
    "def clean_chirps_folder():\n",
    "    \"\"\"Xóa tất cả file CHIRPS trong thư mục output\"\"\"\n",
    "    if not os.path.exists(output_folder):\n",
    "        print(\"❌ Thư mục không tồn tại\")\n",
    "        return\n",
    "    \n",
    "    files = [f for f in os.listdir(output_folder) if f.endswith('.tif')]\n",
    "    \n",
    "    if not files:\n",
    "        print(\"📂 Thư mục đã trống\")\n",
    "        return\n",
    "    \n",
    "    confirm = input(f\"⚠️  Xóa {len(files)} file CHIRPS? (y/N): \")\n",
    "    if confirm.lower() == 'y':\n",
    "        for file in files:\n",
    "            os.remove(os.path.join(output_folder, file))\n",
    "        print(f\"🗑️  Đã xóa {len(files)} file\")\n",
    "    else:\n",
    "        print(\"❌ Hủy bỏ\")\n",
    "\n",
    "# Kiểm tra kết quả hiện tại\n",
    "files = check_chirps_files()\n",
    "\n",
    "if files:\n",
    "    print(f\"\\n💡 Sử dụng:\")\n",
    "    print(f\"   - analyze_chirps_file('filename.tif') để phân tích chi tiết file\")\n",
    "    print(f\"   - generate_chirps_summary() để tạo báo cáo tóm tắt\")\n",
    "    print(f\"   - clean_chirps_folder() để xóa tất cả file\")\n",
    "    \n",
    "    # Phân tích file đầu tiên\n",
    "    if len(files) > 0:\n",
    "        print(f\"\\n🔍 Phân tích file đầu tiên:\")\n",
    "        analyze_chirps_file(files[0])\n",
    "        \n",
    "    # Tạo báo cáo tóm tắt\n",
    "    print(f\"\\n📋 Tạo báo cáo tóm tắt:\")\n",
    "    generate_chirps_summary()\n",
    "else:\n",
    "    print(f\"\\n⚠️  Chưa có file nào. Hãy chạy cell trước để tải dữ liệu.\")"
   ]
  }
 ],
 "metadata": {
  "kernelspec": {
   "display_name": "dang",
   "language": "python",
   "name": "python3"
  },
  "language_info": {
   "codemirror_mode": {
    "name": "ipython",
    "version": 3
   },
   "file_extension": ".py",
   "mimetype": "text/x-python",
   "name": "python",
   "nbconvert_exporter": "python",
   "pygments_lexer": "ipython3",
   "version": "3.10.18"
  }
 },
 "nbformat": 4,
 "nbformat_minor": 5
}
